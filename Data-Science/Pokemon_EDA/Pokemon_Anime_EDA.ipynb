{
 "cells": [
  {
   "cell_type": "markdown",
   "metadata": {},
   "source": [
    "# Pokemon Analysis and Visualization\n",
    "\n",
    "Analysis and Visualize `Pokemons` based on its Fighting Style\n",
    "A Detailed Analysis on `Water, Fire, Grass Pokemons` "
   ]
  },
  {
   "cell_type": "markdown",
   "metadata": {},
   "source": [
    "## Import Necessary Modules"
   ]
  },
  {
   "cell_type": "code",
   "execution_count": 1,
   "metadata": {},
   "outputs": [],
   "source": [
    "import pandas as pd\n",
    "import numpy as np\n",
    "import matplotlib.pyplot as plt\n",
    "import seaborn as sb\n",
    "import warnings\n",
    "import squarify\n",
    "warnings.filterwarnings('ignore')"
   ]
  },
  {
   "cell_type": "markdown",
   "metadata": {},
   "source": [
    "### Read CSV File and Display Starting Data"
   ]
  },
  {
   "cell_type": "code",
   "execution_count": 2,
   "metadata": {},
   "outputs": [
    {
     "data": {
      "text/html": [
       "<div>\n",
       "<style scoped>\n",
       "    .dataframe tbody tr th:only-of-type {\n",
       "        vertical-align: middle;\n",
       "    }\n",
       "\n",
       "    .dataframe tbody tr th {\n",
       "        vertical-align: top;\n",
       "    }\n",
       "\n",
       "    .dataframe thead th {\n",
       "        text-align: right;\n",
       "    }\n",
       "</style>\n",
       "<table border=\"1\" class=\"dataframe\">\n",
       "  <thead>\n",
       "    <tr style=\"text-align: right;\">\n",
       "      <th></th>\n",
       "      <th>Name</th>\n",
       "      <th>Name2</th>\n",
       "      <th>Primary Type</th>\n",
       "      <th>Secondary type</th>\n",
       "      <th>Attack</th>\n",
       "      <th>Defense</th>\n",
       "      <th>HP</th>\n",
       "      <th>Sp.Attack</th>\n",
       "      <th>Sp.Defense</th>\n",
       "      <th>Speed</th>\n",
       "      <th>Total</th>\n",
       "    </tr>\n",
       "  </thead>\n",
       "  <tbody>\n",
       "    <tr>\n",
       "      <th>0</th>\n",
       "      <td>Bulbasaur</td>\n",
       "      <td>NaN</td>\n",
       "      <td>GRASS</td>\n",
       "      <td>POISON</td>\n",
       "      <td>49</td>\n",
       "      <td>49</td>\n",
       "      <td>45</td>\n",
       "      <td>65</td>\n",
       "      <td>65</td>\n",
       "      <td>45</td>\n",
       "      <td>318</td>\n",
       "    </tr>\n",
       "    <tr>\n",
       "      <th>1</th>\n",
       "      <td>Ivysaur</td>\n",
       "      <td>NaN</td>\n",
       "      <td>GRASS</td>\n",
       "      <td>POISON</td>\n",
       "      <td>62</td>\n",
       "      <td>63</td>\n",
       "      <td>60</td>\n",
       "      <td>80</td>\n",
       "      <td>80</td>\n",
       "      <td>60</td>\n",
       "      <td>405</td>\n",
       "    </tr>\n",
       "    <tr>\n",
       "      <th>2</th>\n",
       "      <td>Venusaur</td>\n",
       "      <td>NaN</td>\n",
       "      <td>GRASS</td>\n",
       "      <td>POISON</td>\n",
       "      <td>82</td>\n",
       "      <td>83</td>\n",
       "      <td>80</td>\n",
       "      <td>100</td>\n",
       "      <td>100</td>\n",
       "      <td>80</td>\n",
       "      <td>525</td>\n",
       "    </tr>\n",
       "    <tr>\n",
       "      <th>3</th>\n",
       "      <td>Venusaur</td>\n",
       "      <td>Mega Venusaur</td>\n",
       "      <td>GRASS</td>\n",
       "      <td>POISON</td>\n",
       "      <td>100</td>\n",
       "      <td>123</td>\n",
       "      <td>80</td>\n",
       "      <td>122</td>\n",
       "      <td>120</td>\n",
       "      <td>80</td>\n",
       "      <td>625</td>\n",
       "    </tr>\n",
       "    <tr>\n",
       "      <th>4</th>\n",
       "      <td>Charmander</td>\n",
       "      <td>NaN</td>\n",
       "      <td>FIRE</td>\n",
       "      <td>NaN</td>\n",
       "      <td>52</td>\n",
       "      <td>43</td>\n",
       "      <td>39</td>\n",
       "      <td>60</td>\n",
       "      <td>50</td>\n",
       "      <td>65</td>\n",
       "      <td>309</td>\n",
       "    </tr>\n",
       "    <tr>\n",
       "      <th>5</th>\n",
       "      <td>Charmeleon</td>\n",
       "      <td>NaN</td>\n",
       "      <td>FIRE</td>\n",
       "      <td>NaN</td>\n",
       "      <td>64</td>\n",
       "      <td>58</td>\n",
       "      <td>58</td>\n",
       "      <td>80</td>\n",
       "      <td>65</td>\n",
       "      <td>80</td>\n",
       "      <td>405</td>\n",
       "    </tr>\n",
       "    <tr>\n",
       "      <th>6</th>\n",
       "      <td>Charizard</td>\n",
       "      <td>NaN</td>\n",
       "      <td>FIRE</td>\n",
       "      <td>FLYING</td>\n",
       "      <td>84</td>\n",
       "      <td>78</td>\n",
       "      <td>78</td>\n",
       "      <td>109</td>\n",
       "      <td>85</td>\n",
       "      <td>100</td>\n",
       "      <td>534</td>\n",
       "    </tr>\n",
       "    <tr>\n",
       "      <th>7</th>\n",
       "      <td>Charizard</td>\n",
       "      <td>Mega Charizard X</td>\n",
       "      <td>FIRE</td>\n",
       "      <td>DRAGON</td>\n",
       "      <td>130</td>\n",
       "      <td>111</td>\n",
       "      <td>78</td>\n",
       "      <td>130</td>\n",
       "      <td>85</td>\n",
       "      <td>100</td>\n",
       "      <td>634</td>\n",
       "    </tr>\n",
       "    <tr>\n",
       "      <th>8</th>\n",
       "      <td>Charizard</td>\n",
       "      <td>Mega Charizard Y</td>\n",
       "      <td>FIRE</td>\n",
       "      <td>FLYING</td>\n",
       "      <td>104</td>\n",
       "      <td>78</td>\n",
       "      <td>78</td>\n",
       "      <td>159</td>\n",
       "      <td>115</td>\n",
       "      <td>100</td>\n",
       "      <td>634</td>\n",
       "    </tr>\n",
       "    <tr>\n",
       "      <th>9</th>\n",
       "      <td>Squirtle</td>\n",
       "      <td>NaN</td>\n",
       "      <td>WATER</td>\n",
       "      <td>NaN</td>\n",
       "      <td>48</td>\n",
       "      <td>65</td>\n",
       "      <td>44</td>\n",
       "      <td>50</td>\n",
       "      <td>64</td>\n",
       "      <td>43</td>\n",
       "      <td>314</td>\n",
       "    </tr>\n",
       "  </tbody>\n",
       "</table>\n",
       "</div>"
      ],
      "text/plain": [
       "         Name             Name2 Primary Type Secondary type  Attack  Defense  \\\n",
       "0   Bulbasaur               NaN        GRASS         POISON      49       49   \n",
       "1     Ivysaur               NaN        GRASS         POISON      62       63   \n",
       "2    Venusaur               NaN        GRASS         POISON      82       83   \n",
       "3    Venusaur     Mega Venusaur        GRASS         POISON     100      123   \n",
       "4  Charmander               NaN         FIRE            NaN      52       43   \n",
       "5  Charmeleon               NaN         FIRE            NaN      64       58   \n",
       "6   Charizard               NaN         FIRE         FLYING      84       78   \n",
       "7   Charizard  Mega Charizard X         FIRE         DRAGON     130      111   \n",
       "8   Charizard  Mega Charizard Y         FIRE         FLYING     104       78   \n",
       "9    Squirtle               NaN        WATER            NaN      48       65   \n",
       "\n",
       "   HP  Sp.Attack  Sp.Defense  Speed  Total  \n",
       "0  45         65          65     45    318  \n",
       "1  60         80          80     60    405  \n",
       "2  80        100         100     80    525  \n",
       "3  80        122         120     80    625  \n",
       "4  39         60          50     65    309  \n",
       "5  58         80          65     80    405  \n",
       "6  78        109          85    100    534  \n",
       "7  78        130          85    100    634  \n",
       "8  78        159         115    100    634  \n",
       "9  44         50          64     43    314  "
      ]
     },
     "execution_count": 2,
     "metadata": {},
     "output_type": "execute_result"
    }
   ],
   "source": [
    "dataset = pd.read_csv(\"pokemons dataset.csv\")\n",
    "dataset.head(10)"
   ]
  },
  {
   "cell_type": "code",
   "execution_count": 3,
   "metadata": {},
   "outputs": [
    {
     "name": "stdout",
     "output_type": "stream",
     "text": [
      "<class 'pandas.core.frame.DataFrame'>\n",
      "RangeIndex: 1045 entries, 0 to 1044\n",
      "Data columns (total 11 columns):\n",
      " #   Column          Non-Null Count  Dtype \n",
      "---  ------          --------------  ----- \n",
      " 0   Name            1045 non-null   object\n",
      " 1   Name2           175 non-null    object\n",
      " 2   Primary Type    1045 non-null   object\n",
      " 3   Secondary type  553 non-null    object\n",
      " 4   Attack          1045 non-null   int64 \n",
      " 5   Defense         1045 non-null   int64 \n",
      " 6   HP              1045 non-null   int64 \n",
      " 7   Sp.Attack       1045 non-null   int64 \n",
      " 8   Sp.Defense      1045 non-null   int64 \n",
      " 9   Speed           1045 non-null   int64 \n",
      " 10  Total           1045 non-null   int64 \n",
      "dtypes: int64(7), object(4)\n",
      "memory usage: 89.9+ KB\n"
     ]
    }
   ],
   "source": [
    "dataset.info()"
   ]
  },
  {
   "cell_type": "code",
   "execution_count": 4,
   "metadata": {},
   "outputs": [
    {
     "data": {
      "text/html": [
       "<div>\n",
       "<style scoped>\n",
       "    .dataframe tbody tr th:only-of-type {\n",
       "        vertical-align: middle;\n",
       "    }\n",
       "\n",
       "    .dataframe tbody tr th {\n",
       "        vertical-align: top;\n",
       "    }\n",
       "\n",
       "    .dataframe thead th {\n",
       "        text-align: right;\n",
       "    }\n",
       "</style>\n",
       "<table border=\"1\" class=\"dataframe\">\n",
       "  <thead>\n",
       "    <tr style=\"text-align: right;\">\n",
       "      <th></th>\n",
       "      <th>count</th>\n",
       "      <th>mean</th>\n",
       "      <th>std</th>\n",
       "      <th>min</th>\n",
       "      <th>25%</th>\n",
       "      <th>50%</th>\n",
       "      <th>75%</th>\n",
       "      <th>max</th>\n",
       "    </tr>\n",
       "  </thead>\n",
       "  <tbody>\n",
       "    <tr>\n",
       "      <th>Attack</th>\n",
       "      <td>1045.0</td>\n",
       "      <td>80.466986</td>\n",
       "      <td>32.413665</td>\n",
       "      <td>5.0</td>\n",
       "      <td>55.0</td>\n",
       "      <td>77.0</td>\n",
       "      <td>100.0</td>\n",
       "      <td>190.0</td>\n",
       "    </tr>\n",
       "    <tr>\n",
       "      <th>Defense</th>\n",
       "      <td>1045.0</td>\n",
       "      <td>74.661244</td>\n",
       "      <td>31.237903</td>\n",
       "      <td>5.0</td>\n",
       "      <td>50.0</td>\n",
       "      <td>70.0</td>\n",
       "      <td>90.0</td>\n",
       "      <td>250.0</td>\n",
       "    </tr>\n",
       "    <tr>\n",
       "      <th>HP</th>\n",
       "      <td>1045.0</td>\n",
       "      <td>70.067943</td>\n",
       "      <td>26.671411</td>\n",
       "      <td>1.0</td>\n",
       "      <td>50.0</td>\n",
       "      <td>68.0</td>\n",
       "      <td>82.0</td>\n",
       "      <td>255.0</td>\n",
       "    </tr>\n",
       "    <tr>\n",
       "      <th>Sp.Attack</th>\n",
       "      <td>1045.0</td>\n",
       "      <td>73.022010</td>\n",
       "      <td>32.724797</td>\n",
       "      <td>10.0</td>\n",
       "      <td>50.0</td>\n",
       "      <td>65.0</td>\n",
       "      <td>95.0</td>\n",
       "      <td>194.0</td>\n",
       "    </tr>\n",
       "    <tr>\n",
       "      <th>Sp.Defense</th>\n",
       "      <td>1045.0</td>\n",
       "      <td>72.288995</td>\n",
       "      <td>28.074148</td>\n",
       "      <td>20.0</td>\n",
       "      <td>50.0</td>\n",
       "      <td>70.0</td>\n",
       "      <td>90.0</td>\n",
       "      <td>250.0</td>\n",
       "    </tr>\n",
       "    <tr>\n",
       "      <th>Speed</th>\n",
       "      <td>1045.0</td>\n",
       "      <td>68.807656</td>\n",
       "      <td>30.210094</td>\n",
       "      <td>5.0</td>\n",
       "      <td>45.0</td>\n",
       "      <td>65.0</td>\n",
       "      <td>90.0</td>\n",
       "      <td>200.0</td>\n",
       "    </tr>\n",
       "    <tr>\n",
       "      <th>Total</th>\n",
       "      <td>1045.0</td>\n",
       "      <td>439.314833</td>\n",
       "      <td>121.970701</td>\n",
       "      <td>175.0</td>\n",
       "      <td>330.0</td>\n",
       "      <td>458.0</td>\n",
       "      <td>515.0</td>\n",
       "      <td>1125.0</td>\n",
       "    </tr>\n",
       "  </tbody>\n",
       "</table>\n",
       "</div>"
      ],
      "text/plain": [
       "             count        mean         std    min    25%    50%    75%     max\n",
       "Attack      1045.0   80.466986   32.413665    5.0   55.0   77.0  100.0   190.0\n",
       "Defense     1045.0   74.661244   31.237903    5.0   50.0   70.0   90.0   250.0\n",
       "HP          1045.0   70.067943   26.671411    1.0   50.0   68.0   82.0   255.0\n",
       "Sp.Attack   1045.0   73.022010   32.724797   10.0   50.0   65.0   95.0   194.0\n",
       "Sp.Defense  1045.0   72.288995   28.074148   20.0   50.0   70.0   90.0   250.0\n",
       "Speed       1045.0   68.807656   30.210094    5.0   45.0   65.0   90.0   200.0\n",
       "Total       1045.0  439.314833  121.970701  175.0  330.0  458.0  515.0  1125.0"
      ]
     },
     "execution_count": 4,
     "metadata": {},
     "output_type": "execute_result"
    }
   ],
   "source": [
    "dataset.describe().T  #transpose"
   ]
  },
  {
   "cell_type": "code",
   "execution_count": 5,
   "metadata": {},
   "outputs": [
    {
     "data": {
      "text/html": [
       "<div>\n",
       "<style scoped>\n",
       "    .dataframe tbody tr th:only-of-type {\n",
       "        vertical-align: middle;\n",
       "    }\n",
       "\n",
       "    .dataframe tbody tr th {\n",
       "        vertical-align: top;\n",
       "    }\n",
       "\n",
       "    .dataframe thead th {\n",
       "        text-align: right;\n",
       "    }\n",
       "</style>\n",
       "<table border=\"1\" class=\"dataframe\">\n",
       "  <thead>\n",
       "    <tr style=\"text-align: right;\">\n",
       "      <th></th>\n",
       "      <th>Attack</th>\n",
       "      <th>Defense</th>\n",
       "      <th>HP</th>\n",
       "      <th>Sp.Attack</th>\n",
       "      <th>Sp.Defense</th>\n",
       "      <th>Speed</th>\n",
       "      <th>Total</th>\n",
       "    </tr>\n",
       "  </thead>\n",
       "  <tbody>\n",
       "    <tr>\n",
       "      <th>count</th>\n",
       "      <td>1045.000000</td>\n",
       "      <td>1045.000000</td>\n",
       "      <td>1045.000000</td>\n",
       "      <td>1045.000000</td>\n",
       "      <td>1045.000000</td>\n",
       "      <td>1045.000000</td>\n",
       "      <td>1045.000000</td>\n",
       "    </tr>\n",
       "    <tr>\n",
       "      <th>mean</th>\n",
       "      <td>80.466986</td>\n",
       "      <td>74.661244</td>\n",
       "      <td>70.067943</td>\n",
       "      <td>73.022010</td>\n",
       "      <td>72.288995</td>\n",
       "      <td>68.807656</td>\n",
       "      <td>439.314833</td>\n",
       "    </tr>\n",
       "    <tr>\n",
       "      <th>std</th>\n",
       "      <td>32.413665</td>\n",
       "      <td>31.237903</td>\n",
       "      <td>26.671411</td>\n",
       "      <td>32.724797</td>\n",
       "      <td>28.074148</td>\n",
       "      <td>30.210094</td>\n",
       "      <td>121.970701</td>\n",
       "    </tr>\n",
       "    <tr>\n",
       "      <th>min</th>\n",
       "      <td>5.000000</td>\n",
       "      <td>5.000000</td>\n",
       "      <td>1.000000</td>\n",
       "      <td>10.000000</td>\n",
       "      <td>20.000000</td>\n",
       "      <td>5.000000</td>\n",
       "      <td>175.000000</td>\n",
       "    </tr>\n",
       "    <tr>\n",
       "      <th>25%</th>\n",
       "      <td>55.000000</td>\n",
       "      <td>50.000000</td>\n",
       "      <td>50.000000</td>\n",
       "      <td>50.000000</td>\n",
       "      <td>50.000000</td>\n",
       "      <td>45.000000</td>\n",
       "      <td>330.000000</td>\n",
       "    </tr>\n",
       "    <tr>\n",
       "      <th>50%</th>\n",
       "      <td>77.000000</td>\n",
       "      <td>70.000000</td>\n",
       "      <td>68.000000</td>\n",
       "      <td>65.000000</td>\n",
       "      <td>70.000000</td>\n",
       "      <td>65.000000</td>\n",
       "      <td>458.000000</td>\n",
       "    </tr>\n",
       "    <tr>\n",
       "      <th>75%</th>\n",
       "      <td>100.000000</td>\n",
       "      <td>90.000000</td>\n",
       "      <td>82.000000</td>\n",
       "      <td>95.000000</td>\n",
       "      <td>90.000000</td>\n",
       "      <td>90.000000</td>\n",
       "      <td>515.000000</td>\n",
       "    </tr>\n",
       "    <tr>\n",
       "      <th>max</th>\n",
       "      <td>190.000000</td>\n",
       "      <td>250.000000</td>\n",
       "      <td>255.000000</td>\n",
       "      <td>194.000000</td>\n",
       "      <td>250.000000</td>\n",
       "      <td>200.000000</td>\n",
       "      <td>1125.000000</td>\n",
       "    </tr>\n",
       "  </tbody>\n",
       "</table>\n",
       "</div>"
      ],
      "text/plain": [
       "            Attack      Defense           HP    Sp.Attack   Sp.Defense  \\\n",
       "count  1045.000000  1045.000000  1045.000000  1045.000000  1045.000000   \n",
       "mean     80.466986    74.661244    70.067943    73.022010    72.288995   \n",
       "std      32.413665    31.237903    26.671411    32.724797    28.074148   \n",
       "min       5.000000     5.000000     1.000000    10.000000    20.000000   \n",
       "25%      55.000000    50.000000    50.000000    50.000000    50.000000   \n",
       "50%      77.000000    70.000000    68.000000    65.000000    70.000000   \n",
       "75%     100.000000    90.000000    82.000000    95.000000    90.000000   \n",
       "max     190.000000   250.000000   255.000000   194.000000   250.000000   \n",
       "\n",
       "             Speed        Total  \n",
       "count  1045.000000  1045.000000  \n",
       "mean     68.807656   439.314833  \n",
       "std      30.210094   121.970701  \n",
       "min       5.000000   175.000000  \n",
       "25%      45.000000   330.000000  \n",
       "50%      65.000000   458.000000  \n",
       "75%      90.000000   515.000000  \n",
       "max     200.000000  1125.000000  "
      ]
     },
     "execution_count": 5,
     "metadata": {},
     "output_type": "execute_result"
    }
   ],
   "source": [
    "dataset.describe()"
   ]
  },
  {
   "cell_type": "code",
   "execution_count": 6,
   "metadata": {},
   "outputs": [
    {
     "data": {
      "text/plain": [
       "Name                0\n",
       "Name2             870\n",
       "Primary Type        0\n",
       "Secondary type    492\n",
       "Attack              0\n",
       "Defense             0\n",
       "HP                  0\n",
       "Sp.Attack           0\n",
       "Sp.Defense          0\n",
       "Speed               0\n",
       "Total               0\n",
       "dtype: int64"
      ]
     },
     "execution_count": 6,
     "metadata": {},
     "output_type": "execute_result"
    }
   ],
   "source": [
    "dataset.isnull().sum()"
   ]
  },
  {
   "cell_type": "code",
   "execution_count": 7,
   "metadata": {},
   "outputs": [
    {
     "data": {
      "text/plain": [
       "<AxesSubplot:>"
      ]
     },
     "execution_count": 7,
     "metadata": {},
     "output_type": "execute_result"
    },
    {
     "data": {
      "image/png": "[encoded data removed]",
      "text/plain": [
       "<Figure size 432x288 with 2 Axes>"
      ]
     },
     "metadata": {
      "needs_background": "light"
     },
     "output_type": "display_data"
    }
   ],
   "source": [
    "sb.heatmap(dataset.isnull())"
   ]
  },
  {
   "cell_type": "markdown",
   "metadata": {},
   "source": [
    "**Name 1** as no null items, **Name 2** is another name for the `Pokemon`. This makes sense as well, some `Pokemon` no need another name. Let's Observe another column type. **Primary Type** is the Power Ability of the `Pokemon` which is their major strength. e.g., *Grass, Water, Fire, Lightening, Poison and many more*. **Secondary Type** are those `Pokemon` that as dual Power Ability. The Rest Columns are completely Filled and no null value is noticed. "
   ]
  },
  {
   "cell_type": "code",
   "execution_count": 8,
   "metadata": {},
   "outputs": [
    {
     "name": "stdout",
     "output_type": "stream",
     "text": [
      "Unique Number Of Primary Type:18\n",
      "Unique Number Of Secondary Type:18\n"
     ]
    }
   ],
   "source": [
    "print(\"Unique Number Of Primary Type:{}\".format(dataset['Primary Type'].nunique()))\n",
    "print(\"Unique Number Of Secondary Type:{}\".format(dataset['Secondary type'].nunique()))"
   ]
  },
  {
   "cell_type": "code",
   "execution_count": 9,
   "metadata": {},
   "outputs": [
    {
     "data": {
      "text/plain": [
       "[Text(0.5, 0, 'Primary Type'), Text(0, 0.5, 'Count')]"
      ]
     },
     "execution_count": 9,
     "metadata": {},
     "output_type": "execute_result"
    },
    {
     "data": {
      "image/png": "[encoded data removed]",
      "text/plain": [
       "<Figure size 1440x720 with 1 Axes>"
      ]
     },
     "metadata": {
      "needs_background": "light"
     },
     "output_type": "display_data"
    }
   ],
   "source": [
    "plt.figure(figsize=(20,10))\n",
    "ax = sb.countplot(dataset['Primary Type'])\n",
    "ax.set_title(\"Total Number Of Primary Type\",fontsize=24)\n",
    "ax.set(xlabel=\"Primary Type\", ylabel=\"Count\")"
   ]
  },
  {
   "cell_type": "markdown",
   "metadata": {},
   "source": [
    "We have large number of ``Water Pokemon`` and least number of ``Flying Pokemon`` in the Primary Type Dataset "
   ]
  },
  {
   "cell_type": "code",
   "execution_count": 10,
   "metadata": {},
   "outputs": [
    {
     "data": {
      "image/png": "[encoded data removed]",
      "text/plain": [
       "<Figure size 1440x720 with 1 Axes>"
      ]
     },
     "metadata": {
      "needs_background": "light"
     },
     "output_type": "display_data"
    }
   ],
   "source": [
    "plt.figure(figsize=(20,10))\n",
    "ax = sb.countplot(dataset['Secondary type'])\n",
    "ax.set_title(\"Total Number Of Secondary Type\",fontsize=24)\n",
    "ax.set(xlabel=\"Secondary Type\", ylabel=\"Count\");"
   ]
  },
  {
   "cell_type": "markdown",
   "metadata": {},
   "source": [
    "Since `Secondary Type` has many empty values, let's create a new column `type` that combines Primary And Secondary Pokemon."
   ]
  },
  {
   "cell_type": "code",
   "execution_count": 11,
   "metadata": {},
   "outputs": [
    {
     "data": {
      "image/png": "[encoded data removed]",
      "text/plain": [
       "<Figure size 1296x648 with 2 Axes>"
      ]
     },
     "metadata": {
      "needs_background": "light"
     },
     "output_type": "display_data"
    }
   ],
   "source": [
    "_,(ax, cbar_ax) = plt.subplots(2, gridspec_kw= {\"height_ratios\": (1, .04), \"hspace\":.3}, figsize=(18,9))\n",
    "sb.heatmap((dataset.loc[:,['Attack','Defense','HP','Sp.Attack','Sp.Defense','Speed']]).corr(),\n",
    "            annot= True,\n",
    "            fmt = \"3.3f\",\n",
    "            vmin = -1,\n",
    "            vmax = 1,\n",
    "            ax=ax,\n",
    "            cbar_ax=cbar_ax,\n",
    "            cbar_kws={\"orientation\": \"horizontal\"},\n",
    "            cmap = \"plasma\")\n",
    "ax.set_title('Correlation Between Powers Of Pokemon', size = 24);"
   ]
  },
  {
   "cell_type": "markdown",
   "metadata": {},
   "source": [
    "### From the above Correlation Plot we can conclude that Speed and Defense as the worst relation between the, and Defense and Special Defence have a descent relationship"
   ]
  },
  {
   "cell_type": "markdown",
   "metadata": {},
   "source": [
    "### Create a DataFrame"
   ]
  },
  {
   "cell_type": "code",
   "execution_count": 5,
   "metadata": {},
   "outputs": [],
   "source": [
    "df = pd.DataFrame(dataset)"
   ]
  },
  {
   "cell_type": "markdown",
   "metadata": {},
   "source": [
    "### The `Pokemon` with Highest Total"
   ]
  },
  {
   "cell_type": "code",
   "execution_count": 13,
   "metadata": {},
   "outputs": [
    {
     "data": {
      "text/html": [
       "<div>\n",
       "<style scoped>\n",
       "    .dataframe tbody tr th:only-of-type {\n",
       "        vertical-align: middle;\n",
       "    }\n",
       "\n",
       "    .dataframe tbody tr th {\n",
       "        vertical-align: top;\n",
       "    }\n",
       "\n",
       "    .dataframe thead th {\n",
       "        text-align: right;\n",
       "    }\n",
       "</style>\n",
       "<table border=\"1\" class=\"dataframe\">\n",
       "  <thead>\n",
       "    <tr style=\"text-align: right;\">\n",
       "      <th></th>\n",
       "      <th>Name</th>\n",
       "      <th>Name2</th>\n",
       "      <th>Primary Type</th>\n",
       "      <th>Secondary type</th>\n",
       "      <th>Attack</th>\n",
       "      <th>Defense</th>\n",
       "      <th>HP</th>\n",
       "      <th>Sp.Attack</th>\n",
       "      <th>Sp.Defense</th>\n",
       "      <th>Speed</th>\n",
       "      <th>Total</th>\n",
       "    </tr>\n",
       "  </thead>\n",
       "  <tbody>\n",
       "    <tr>\n",
       "      <th>1033</th>\n",
       "      <td>Eternatus</td>\n",
       "      <td>Eternamax</td>\n",
       "      <td>POISON</td>\n",
       "      <td>DRAGON</td>\n",
       "      <td>115</td>\n",
       "      <td>250</td>\n",
       "      <td>255</td>\n",
       "      <td>125</td>\n",
       "      <td>250</td>\n",
       "      <td>130</td>\n",
       "      <td>1125</td>\n",
       "    </tr>\n",
       "  </tbody>\n",
       "</table>\n",
       "</div>"
      ],
      "text/plain": [
       "           Name      Name2 Primary Type Secondary type  Attack  Defense   HP  \\\n",
       "1033  Eternatus  Eternamax       POISON         DRAGON     115      250  255   \n",
       "\n",
       "      Sp.Attack  Sp.Defense  Speed  Total  \n",
       "1033        125         250    130   1125  "
      ]
     },
     "execution_count": 13,
     "metadata": {},
     "output_type": "execute_result"
    }
   ],
   "source": [
    "df[df['Total']==df['Total'].max()]"
   ]
  },
  {
   "cell_type": "markdown",
   "metadata": {},
   "source": [
    "### What is the Primary Type and Secondary Type of the Highest Total `Pokemon`?"
   ]
  },
  {
   "cell_type": "code",
   "execution_count": 14,
   "metadata": {},
   "outputs": [
    {
     "name": "stdout",
     "output_type": "stream",
     "text": [
      "1033    POISON\n",
      "Name: Primary Type, dtype: object \n",
      "\n",
      "1033    DRAGON\n",
      "Name: Secondary type, dtype: object\n"
     ]
    }
   ],
   "source": [
    "print(df[df['Total']==df['Total'].max()]['Primary Type'],'\\n')\n",
    "print(df[df['Total']==df['Total'].max()]['Secondary type'])"
   ]
  },
  {
   "cell_type": "markdown",
   "metadata": {},
   "source": [
    "### The `Pokemon` with Lowest Total"
   ]
  },
  {
   "cell_type": "code",
   "execution_count": 15,
   "metadata": {},
   "outputs": [
    {
     "data": {
      "text/html": [
       "<div>\n",
       "<style scoped>\n",
       "    .dataframe tbody tr th:only-of-type {\n",
       "        vertical-align: middle;\n",
       "    }\n",
       "\n",
       "    .dataframe tbody tr th {\n",
       "        vertical-align: top;\n",
       "    }\n",
       "\n",
       "    .dataframe thead th {\n",
       "        text-align: right;\n",
       "    }\n",
       "</style>\n",
       "<table border=\"1\" class=\"dataframe\">\n",
       "  <thead>\n",
       "    <tr style=\"text-align: right;\">\n",
       "      <th></th>\n",
       "      <th>Name</th>\n",
       "      <th>Name2</th>\n",
       "      <th>Primary Type</th>\n",
       "      <th>Secondary type</th>\n",
       "      <th>Attack</th>\n",
       "      <th>Defense</th>\n",
       "      <th>HP</th>\n",
       "      <th>Sp.Attack</th>\n",
       "      <th>Sp.Defense</th>\n",
       "      <th>Speed</th>\n",
       "      <th>Total</th>\n",
       "    </tr>\n",
       "  </thead>\n",
       "  <tbody>\n",
       "    <tr>\n",
       "      <th>877</th>\n",
       "      <td>Wishiwashi</td>\n",
       "      <td>Solo Form</td>\n",
       "      <td>WATER</td>\n",
       "      <td>NaN</td>\n",
       "      <td>20</td>\n",
       "      <td>20</td>\n",
       "      <td>45</td>\n",
       "      <td>25</td>\n",
       "      <td>25</td>\n",
       "      <td>40</td>\n",
       "      <td>175</td>\n",
       "    </tr>\n",
       "  </tbody>\n",
       "</table>\n",
       "</div>"
      ],
      "text/plain": [
       "           Name      Name2 Primary Type Secondary type  Attack  Defense  HP  \\\n",
       "877  Wishiwashi  Solo Form        WATER            NaN      20       20  45   \n",
       "\n",
       "     Sp.Attack  Sp.Defense  Speed  Total  \n",
       "877         25          25     40    175  "
      ]
     },
     "execution_count": 15,
     "metadata": {},
     "output_type": "execute_result"
    }
   ],
   "source": [
    "df[df['Total']==df['Total'].min()]"
   ]
  },
  {
   "cell_type": "code",
   "execution_count": 16,
   "metadata": {
    "scrolled": true
   },
   "outputs": [
    {
     "data": {
      "text/html": [
       "<div>\n",
       "<style scoped>\n",
       "    .dataframe tbody tr th:only-of-type {\n",
       "        vertical-align: middle;\n",
       "    }\n",
       "\n",
       "    .dataframe tbody tr th {\n",
       "        vertical-align: top;\n",
       "    }\n",
       "\n",
       "    .dataframe thead th {\n",
       "        text-align: right;\n",
       "    }\n",
       "</style>\n",
       "<table border=\"1\" class=\"dataframe\">\n",
       "  <thead>\n",
       "    <tr style=\"text-align: right;\">\n",
       "      <th></th>\n",
       "      <th>Name</th>\n",
       "      <th>Name2</th>\n",
       "      <th>Primary Type</th>\n",
       "      <th>Secondary type</th>\n",
       "      <th>Attack</th>\n",
       "      <th>Defense</th>\n",
       "      <th>HP</th>\n",
       "      <th>Sp.Attack</th>\n",
       "      <th>Sp.Defense</th>\n",
       "      <th>Speed</th>\n",
       "      <th>Total</th>\n",
       "    </tr>\n",
       "  </thead>\n",
       "  <tbody>\n",
       "    <tr>\n",
       "      <th>194</th>\n",
       "      <td>Mewtwo</td>\n",
       "      <td>Mega Mewtwo X</td>\n",
       "      <td>PSYCHIC</td>\n",
       "      <td>FIGHTING</td>\n",
       "      <td>190</td>\n",
       "      <td>100</td>\n",
       "      <td>106</td>\n",
       "      <td>154</td>\n",
       "      <td>100</td>\n",
       "      <td>130</td>\n",
       "      <td>780</td>\n",
       "    </tr>\n",
       "  </tbody>\n",
       "</table>\n",
       "</div>"
      ],
      "text/plain": [
       "       Name          Name2 Primary Type Secondary type  Attack  Defense   HP  \\\n",
       "194  Mewtwo  Mega Mewtwo X      PSYCHIC       FIGHTING     190      100  106   \n",
       "\n",
       "     Sp.Attack  Sp.Defense  Speed  Total  \n",
       "194        154         100    130    780  "
      ]
     },
     "execution_count": 16,
     "metadata": {},
     "output_type": "execute_result"
    }
   ],
   "source": [
    "df[df['Attack']==df['Attack'].max()]"
   ]
  },
  {
   "cell_type": "markdown",
   "metadata": {},
   "source": [
    "### What is the Primary Type and Secondary Type of the Lowest Total `Pokemon`?"
   ]
  },
  {
   "cell_type": "code",
   "execution_count": 17,
   "metadata": {},
   "outputs": [
    {
     "name": "stdout",
     "output_type": "stream",
     "text": [
      "877    WATER\n",
      "Name: Primary Type, dtype: object \n",
      "\n",
      "877    NaN\n",
      "Name: Secondary type, dtype: object\n"
     ]
    }
   ],
   "source": [
    "print(df[df['Total']==df.Total.min()]['Primary Type'],'\\n')\n",
    "print(df[df['Total']==df.Total.min()]['Secondary type'])"
   ]
  },
  {
   "cell_type": "markdown",
   "metadata": {},
   "source": [
    "## Filtering \n",
    "\n",
    "### Single Filter"
   ]
  },
  {
   "cell_type": "markdown",
   "metadata": {},
   "source": [
    "For Single Filtering example let us first take all those `Pokemons` with attack more than 150. Second consider alll those `Pokemons` with Defense more than 150. Also try to play along. "
   ]
  },
  {
   "cell_type": "code",
   "execution_count": 18,
   "metadata": {},
   "outputs": [],
   "source": [
    "# Pokemon with Attack more than 150. Let's go\n",
    "#method one\n",
    "attack = df[df['Attack']>150]"
   ]
  },
  {
   "cell_type": "code",
   "execution_count": 19,
   "metadata": {},
   "outputs": [
    {
     "data": {
      "text/html": [
       "<div>\n",
       "<style scoped>\n",
       "    .dataframe tbody tr th:only-of-type {\n",
       "        vertical-align: middle;\n",
       "    }\n",
       "\n",
       "    .dataframe tbody tr th {\n",
       "        vertical-align: top;\n",
       "    }\n",
       "\n",
       "    .dataframe thead th {\n",
       "        text-align: right;\n",
       "    }\n",
       "</style>\n",
       "<table border=\"1\" class=\"dataframe\">\n",
       "  <thead>\n",
       "    <tr style=\"text-align: right;\">\n",
       "      <th></th>\n",
       "      <th>Name</th>\n",
       "      <th>Name2</th>\n",
       "      <th>Primary Type</th>\n",
       "      <th>Secondary type</th>\n",
       "      <th>Attack</th>\n",
       "      <th>Defense</th>\n",
       "      <th>HP</th>\n",
       "      <th>Sp.Attack</th>\n",
       "      <th>Sp.Defense</th>\n",
       "      <th>Speed</th>\n",
       "      <th>Total</th>\n",
       "    </tr>\n",
       "  </thead>\n",
       "  <tbody>\n",
       "    <tr>\n",
       "      <th>164</th>\n",
       "      <td>Pinsir</td>\n",
       "      <td>Mega Pinsir</td>\n",
       "      <td>BUG</td>\n",
       "      <td>FLYING</td>\n",
       "      <td>155</td>\n",
       "      <td>120</td>\n",
       "      <td>65</td>\n",
       "      <td>65</td>\n",
       "      <td>90</td>\n",
       "      <td>105</td>\n",
       "      <td>600</td>\n",
       "    </tr>\n",
       "    <tr>\n",
       "      <th>168</th>\n",
       "      <td>Gyarados</td>\n",
       "      <td>Mega Gyarados</td>\n",
       "      <td>WATER</td>\n",
       "      <td>DARK</td>\n",
       "      <td>155</td>\n",
       "      <td>109</td>\n",
       "      <td>95</td>\n",
       "      <td>70</td>\n",
       "      <td>130</td>\n",
       "      <td>81</td>\n",
       "      <td>640</td>\n",
       "    </tr>\n",
       "    <tr>\n",
       "      <th>194</th>\n",
       "      <td>Mewtwo</td>\n",
       "      <td>Mega Mewtwo X</td>\n",
       "      <td>PSYCHIC</td>\n",
       "      <td>FIGHTING</td>\n",
       "      <td>190</td>\n",
       "      <td>100</td>\n",
       "      <td>106</td>\n",
       "      <td>154</td>\n",
       "      <td>100</td>\n",
       "      <td>130</td>\n",
       "      <td>780</td>\n",
       "    </tr>\n",
       "    <tr>\n",
       "      <th>264</th>\n",
       "      <td>Heracross</td>\n",
       "      <td>Mega Heracross</td>\n",
       "      <td>BUG</td>\n",
       "      <td>FIGHTING</td>\n",
       "      <td>185</td>\n",
       "      <td>115</td>\n",
       "      <td>80</td>\n",
       "      <td>40</td>\n",
       "      <td>105</td>\n",
       "      <td>75</td>\n",
       "      <td>600</td>\n",
       "    </tr>\n",
       "    <tr>\n",
       "      <th>301</th>\n",
       "      <td>Tyranitar</td>\n",
       "      <td>Mega Tyranitar</td>\n",
       "      <td>ROCK</td>\n",
       "      <td>DARK</td>\n",
       "      <td>164</td>\n",
       "      <td>150</td>\n",
       "      <td>100</td>\n",
       "      <td>95</td>\n",
       "      <td>120</td>\n",
       "      <td>71</td>\n",
       "      <td>700</td>\n",
       "    </tr>\n",
       "    <tr>\n",
       "      <th>312</th>\n",
       "      <td>Blaziken</td>\n",
       "      <td>Mega Blaziken</td>\n",
       "      <td>FIRE</td>\n",
       "      <td>FIGHTING</td>\n",
       "      <td>160</td>\n",
       "      <td>80</td>\n",
       "      <td>80</td>\n",
       "      <td>130</td>\n",
       "      <td>80</td>\n",
       "      <td>100</td>\n",
       "      <td>630</td>\n",
       "    </tr>\n",
       "    <tr>\n",
       "      <th>348</th>\n",
       "      <td>Slaking</td>\n",
       "      <td>NaN</td>\n",
       "      <td>NORMAL</td>\n",
       "      <td>NaN</td>\n",
       "      <td>160</td>\n",
       "      <td>100</td>\n",
       "      <td>150</td>\n",
       "      <td>95</td>\n",
       "      <td>65</td>\n",
       "      <td>100</td>\n",
       "      <td>670</td>\n",
       "    </tr>\n",
       "    <tr>\n",
       "      <th>425</th>\n",
       "      <td>Banette</td>\n",
       "      <td>Mega Banette</td>\n",
       "      <td>GHOST</td>\n",
       "      <td>NaN</td>\n",
       "      <td>165</td>\n",
       "      <td>75</td>\n",
       "      <td>64</td>\n",
       "      <td>93</td>\n",
       "      <td>83</td>\n",
       "      <td>75</td>\n",
       "      <td>555</td>\n",
       "    </tr>\n",
       "  </tbody>\n",
       "</table>\n",
       "</div>"
      ],
      "text/plain": [
       "          Name           Name2 Primary Type Secondary type  Attack  Defense  \\\n",
       "164     Pinsir     Mega Pinsir          BUG         FLYING     155      120   \n",
       "168   Gyarados   Mega Gyarados        WATER           DARK     155      109   \n",
       "194     Mewtwo   Mega Mewtwo X      PSYCHIC       FIGHTING     190      100   \n",
       "264  Heracross  Mega Heracross          BUG       FIGHTING     185      115   \n",
       "301  Tyranitar  Mega Tyranitar         ROCK           DARK     164      150   \n",
       "312   Blaziken   Mega Blaziken         FIRE       FIGHTING     160       80   \n",
       "348    Slaking             NaN       NORMAL            NaN     160      100   \n",
       "425    Banette    Mega Banette        GHOST            NaN     165       75   \n",
       "\n",
       "      HP  Sp.Attack  Sp.Defense  Speed  Total  \n",
       "164   65         65          90    105    600  \n",
       "168   95         70         130     81    640  \n",
       "194  106        154         100    130    780  \n",
       "264   80         40         105     75    600  \n",
       "301  100         95         120     71    700  \n",
       "312   80        130          80    100    630  \n",
       "348  150         95          65    100    670  \n",
       "425   64         93          83     75    555  "
      ]
     },
     "execution_count": 19,
     "metadata": {},
     "output_type": "execute_result"
    }
   ],
   "source": [
    "attack.head(8)"
   ]
  },
  {
   "cell_type": "code",
   "execution_count": 20,
   "metadata": {},
   "outputs": [],
   "source": [
    "#method 2\n",
    "attack_2 = df['Attack'].map(lambda atk:atk>150)"
   ]
  },
  {
   "cell_type": "code",
   "execution_count": 21,
   "metadata": {},
   "outputs": [
    {
     "data": {
      "text/plain": [
       "155"
      ]
     },
     "execution_count": 21,
     "metadata": {},
     "output_type": "execute_result"
    }
   ],
   "source": [
    "df[attack_2]['Attack'].min()"
   ]
  },
  {
   "cell_type": "code",
   "execution_count": 22,
   "metadata": {},
   "outputs": [
    {
     "data": {
      "text/html": [
       "<div>\n",
       "<style scoped>\n",
       "    .dataframe tbody tr th:only-of-type {\n",
       "        vertical-align: middle;\n",
       "    }\n",
       "\n",
       "    .dataframe tbody tr th {\n",
       "        vertical-align: top;\n",
       "    }\n",
       "\n",
       "    .dataframe thead th {\n",
       "        text-align: right;\n",
       "    }\n",
       "</style>\n",
       "<table border=\"1\" class=\"dataframe\">\n",
       "  <thead>\n",
       "    <tr style=\"text-align: right;\">\n",
       "      <th></th>\n",
       "      <th>Name</th>\n",
       "      <th>Name2</th>\n",
       "      <th>Primary Type</th>\n",
       "      <th>Secondary type</th>\n",
       "      <th>Attack</th>\n",
       "      <th>Defense</th>\n",
       "      <th>HP</th>\n",
       "      <th>Sp.Attack</th>\n",
       "      <th>Sp.Defense</th>\n",
       "      <th>Speed</th>\n",
       "      <th>Total</th>\n",
       "    </tr>\n",
       "  </thead>\n",
       "  <tbody>\n",
       "    <tr>\n",
       "      <th>164</th>\n",
       "      <td>Pinsir</td>\n",
       "      <td>Mega Pinsir</td>\n",
       "      <td>BUG</td>\n",
       "      <td>FLYING</td>\n",
       "      <td>155</td>\n",
       "      <td>120</td>\n",
       "      <td>65</td>\n",
       "      <td>65</td>\n",
       "      <td>90</td>\n",
       "      <td>105</td>\n",
       "      <td>600</td>\n",
       "    </tr>\n",
       "    <tr>\n",
       "      <th>168</th>\n",
       "      <td>Gyarados</td>\n",
       "      <td>Mega Gyarados</td>\n",
       "      <td>WATER</td>\n",
       "      <td>DARK</td>\n",
       "      <td>155</td>\n",
       "      <td>109</td>\n",
       "      <td>95</td>\n",
       "      <td>70</td>\n",
       "      <td>130</td>\n",
       "      <td>81</td>\n",
       "      <td>640</td>\n",
       "    </tr>\n",
       "    <tr>\n",
       "      <th>194</th>\n",
       "      <td>Mewtwo</td>\n",
       "      <td>Mega Mewtwo X</td>\n",
       "      <td>PSYCHIC</td>\n",
       "      <td>FIGHTING</td>\n",
       "      <td>190</td>\n",
       "      <td>100</td>\n",
       "      <td>106</td>\n",
       "      <td>154</td>\n",
       "      <td>100</td>\n",
       "      <td>130</td>\n",
       "      <td>780</td>\n",
       "    </tr>\n",
       "    <tr>\n",
       "      <th>264</th>\n",
       "      <td>Heracross</td>\n",
       "      <td>Mega Heracross</td>\n",
       "      <td>BUG</td>\n",
       "      <td>FIGHTING</td>\n",
       "      <td>185</td>\n",
       "      <td>115</td>\n",
       "      <td>80</td>\n",
       "      <td>40</td>\n",
       "      <td>105</td>\n",
       "      <td>75</td>\n",
       "      <td>600</td>\n",
       "    </tr>\n",
       "    <tr>\n",
       "      <th>301</th>\n",
       "      <td>Tyranitar</td>\n",
       "      <td>Mega Tyranitar</td>\n",
       "      <td>ROCK</td>\n",
       "      <td>DARK</td>\n",
       "      <td>164</td>\n",
       "      <td>150</td>\n",
       "      <td>100</td>\n",
       "      <td>95</td>\n",
       "      <td>120</td>\n",
       "      <td>71</td>\n",
       "      <td>700</td>\n",
       "    </tr>\n",
       "    <tr>\n",
       "      <th>312</th>\n",
       "      <td>Blaziken</td>\n",
       "      <td>Mega Blaziken</td>\n",
       "      <td>FIRE</td>\n",
       "      <td>FIGHTING</td>\n",
       "      <td>160</td>\n",
       "      <td>80</td>\n",
       "      <td>80</td>\n",
       "      <td>130</td>\n",
       "      <td>80</td>\n",
       "      <td>100</td>\n",
       "      <td>630</td>\n",
       "    </tr>\n",
       "    <tr>\n",
       "      <th>348</th>\n",
       "      <td>Slaking</td>\n",
       "      <td>NaN</td>\n",
       "      <td>NORMAL</td>\n",
       "      <td>NaN</td>\n",
       "      <td>160</td>\n",
       "      <td>100</td>\n",
       "      <td>150</td>\n",
       "      <td>95</td>\n",
       "      <td>65</td>\n",
       "      <td>100</td>\n",
       "      <td>670</td>\n",
       "    </tr>\n",
       "    <tr>\n",
       "      <th>425</th>\n",
       "      <td>Banette</td>\n",
       "      <td>Mega Banette</td>\n",
       "      <td>GHOST</td>\n",
       "      <td>NaN</td>\n",
       "      <td>165</td>\n",
       "      <td>75</td>\n",
       "      <td>64</td>\n",
       "      <td>93</td>\n",
       "      <td>83</td>\n",
       "      <td>75</td>\n",
       "      <td>555</td>\n",
       "    </tr>\n",
       "  </tbody>\n",
       "</table>\n",
       "</div>"
      ],
      "text/plain": [
       "          Name           Name2 Primary Type Secondary type  Attack  Defense  \\\n",
       "164     Pinsir     Mega Pinsir          BUG         FLYING     155      120   \n",
       "168   Gyarados   Mega Gyarados        WATER           DARK     155      109   \n",
       "194     Mewtwo   Mega Mewtwo X      PSYCHIC       FIGHTING     190      100   \n",
       "264  Heracross  Mega Heracross          BUG       FIGHTING     185      115   \n",
       "301  Tyranitar  Mega Tyranitar         ROCK           DARK     164      150   \n",
       "312   Blaziken   Mega Blaziken         FIRE       FIGHTING     160       80   \n",
       "348    Slaking             NaN       NORMAL            NaN     160      100   \n",
       "425    Banette    Mega Banette        GHOST            NaN     165       75   \n",
       "\n",
       "      HP  Sp.Attack  Sp.Defense  Speed  Total  \n",
       "164   65         65          90    105    600  \n",
       "168   95         70         130     81    640  \n",
       "194  106        154         100    130    780  \n",
       "264   80         40         105     75    600  \n",
       "301  100         95         120     71    700  \n",
       "312   80        130          80    100    630  \n",
       "348  150         95          65    100    670  \n",
       "425   64         93          83     75    555  "
      ]
     },
     "execution_count": 22,
     "metadata": {},
     "output_type": "execute_result"
    }
   ],
   "source": [
    "#method 3\n",
    "attack_pokemons = []\n",
    "for atck in df['Attack']:\n",
    "    if atck > 150:\n",
    "        attack_pokemons.append(True)\n",
    "    else:\n",
    "        attack_pokemons.append(False)\n",
    "\n",
    "attack_3 = pd.Series(attack_pokemons)\n",
    "df[attack_3].head(8)"
   ]
  },
  {
   "cell_type": "markdown",
   "metadata": {},
   "source": [
    "### Try the `Single Filtering` for Defense for practice"
   ]
  },
  {
   "cell_type": "code",
   "execution_count": 23,
   "metadata": {},
   "outputs": [],
   "source": [
    "defense_more_than_150 = df[df['Defense']>150]"
   ]
  },
  {
   "cell_type": "code",
   "execution_count": 24,
   "metadata": {},
   "outputs": [
    {
     "data": {
      "text/plain": [
       "152"
      ]
     },
     "execution_count": 24,
     "metadata": {},
     "output_type": "execute_result"
    }
   ],
   "source": [
    "defense_more_than_150['Defense'].min()"
   ]
  },
  {
   "cell_type": "code",
   "execution_count": 25,
   "metadata": {},
   "outputs": [
    {
     "data": {
      "text/html": [
       "<div>\n",
       "<style scoped>\n",
       "    .dataframe tbody tr th:only-of-type {\n",
       "        vertical-align: middle;\n",
       "    }\n",
       "\n",
       "    .dataframe tbody tr th {\n",
       "        vertical-align: top;\n",
       "    }\n",
       "\n",
       "    .dataframe thead th {\n",
       "        text-align: right;\n",
       "    }\n",
       "</style>\n",
       "<table border=\"1\" class=\"dataframe\">\n",
       "  <thead>\n",
       "    <tr style=\"text-align: right;\">\n",
       "      <th></th>\n",
       "      <th>Name</th>\n",
       "      <th>Name2</th>\n",
       "      <th>Primary Type</th>\n",
       "      <th>Secondary type</th>\n",
       "      <th>Attack</th>\n",
       "      <th>Defense</th>\n",
       "      <th>HP</th>\n",
       "      <th>Sp.Attack</th>\n",
       "      <th>Sp.Defense</th>\n",
       "      <th>Speed</th>\n",
       "      <th>Total</th>\n",
       "    </tr>\n",
       "  </thead>\n",
       "  <tbody>\n",
       "    <tr>\n",
       "      <th>106</th>\n",
       "      <td>Slowbro</td>\n",
       "      <td>Mega Slowbro</td>\n",
       "      <td>WATER</td>\n",
       "      <td>PSYCHIC</td>\n",
       "      <td>75</td>\n",
       "      <td>180</td>\n",
       "      <td>95</td>\n",
       "      <td>130</td>\n",
       "      <td>80</td>\n",
       "      <td>30</td>\n",
       "      <td>590</td>\n",
       "    </tr>\n",
       "    <tr>\n",
       "      <th>121</th>\n",
       "      <td>Cloyster</td>\n",
       "      <td>NaN</td>\n",
       "      <td>WATER</td>\n",
       "      <td>ICE</td>\n",
       "      <td>95</td>\n",
       "      <td>180</td>\n",
       "      <td>50</td>\n",
       "      <td>85</td>\n",
       "      <td>45</td>\n",
       "      <td>70</td>\n",
       "      <td>525</td>\n",
       "    </tr>\n",
       "    <tr>\n",
       "      <th>126</th>\n",
       "      <td>Onix</td>\n",
       "      <td>NaN</td>\n",
       "      <td>ROCK</td>\n",
       "      <td>GROUND</td>\n",
       "      <td>45</td>\n",
       "      <td>160</td>\n",
       "      <td>35</td>\n",
       "      <td>30</td>\n",
       "      <td>45</td>\n",
       "      <td>70</td>\n",
       "      <td>385</td>\n",
       "    </tr>\n",
       "    <tr>\n",
       "      <th>255</th>\n",
       "      <td>Steelix</td>\n",
       "      <td>NaN</td>\n",
       "      <td>STEEL</td>\n",
       "      <td>GROUND</td>\n",
       "      <td>85</td>\n",
       "      <td>200</td>\n",
       "      <td>75</td>\n",
       "      <td>55</td>\n",
       "      <td>65</td>\n",
       "      <td>30</td>\n",
       "      <td>510</td>\n",
       "    </tr>\n",
       "    <tr>\n",
       "      <th>256</th>\n",
       "      <td>Steelix</td>\n",
       "      <td>Mega Steelix</td>\n",
       "      <td>STEEL</td>\n",
       "      <td>GROUND</td>\n",
       "      <td>125</td>\n",
       "      <td>230</td>\n",
       "      <td>75</td>\n",
       "      <td>55</td>\n",
       "      <td>95</td>\n",
       "      <td>30</td>\n",
       "      <td>610</td>\n",
       "    </tr>\n",
       "    <tr>\n",
       "      <th>262</th>\n",
       "      <td>Shuckle</td>\n",
       "      <td>NaN</td>\n",
       "      <td>BUG</td>\n",
       "      <td>ROCK</td>\n",
       "      <td>10</td>\n",
       "      <td>230</td>\n",
       "      <td>20</td>\n",
       "      <td>10</td>\n",
       "      <td>230</td>\n",
       "      <td>5</td>\n",
       "      <td>505</td>\n",
       "    </tr>\n",
       "    <tr>\n",
       "      <th>367</th>\n",
       "      <td>Aggron</td>\n",
       "      <td>NaN</td>\n",
       "      <td>STEEL</td>\n",
       "      <td>ROCK</td>\n",
       "      <td>110</td>\n",
       "      <td>180</td>\n",
       "      <td>70</td>\n",
       "      <td>60</td>\n",
       "      <td>60</td>\n",
       "      <td>50</td>\n",
       "      <td>530</td>\n",
       "    </tr>\n",
       "    <tr>\n",
       "      <th>368</th>\n",
       "      <td>Aggron</td>\n",
       "      <td>Mega Aggron</td>\n",
       "      <td>STEEL</td>\n",
       "      <td>NaN</td>\n",
       "      <td>140</td>\n",
       "      <td>230</td>\n",
       "      <td>70</td>\n",
       "      <td>60</td>\n",
       "      <td>80</td>\n",
       "      <td>50</td>\n",
       "      <td>630</td>\n",
       "    </tr>\n",
       "    <tr>\n",
       "      <th>452</th>\n",
       "      <td>Regirock</td>\n",
       "      <td>NaN</td>\n",
       "      <td>ROCK</td>\n",
       "      <td>NaN</td>\n",
       "      <td>100</td>\n",
       "      <td>200</td>\n",
       "      <td>80</td>\n",
       "      <td>50</td>\n",
       "      <td>100</td>\n",
       "      <td>50</td>\n",
       "      <td>580</td>\n",
       "    </tr>\n",
       "    <tr>\n",
       "      <th>462</th>\n",
       "      <td>Groudon</td>\n",
       "      <td>Primal Groudon</td>\n",
       "      <td>GROUND</td>\n",
       "      <td>FIRE</td>\n",
       "      <td>180</td>\n",
       "      <td>160</td>\n",
       "      <td>100</td>\n",
       "      <td>150</td>\n",
       "      <td>90</td>\n",
       "      <td>90</td>\n",
       "      <td>770</td>\n",
       "    </tr>\n",
       "    <tr>\n",
       "      <th>468</th>\n",
       "      <td>Deoxys</td>\n",
       "      <td>Defense Forme</td>\n",
       "      <td>PSYCHIC</td>\n",
       "      <td>NaN</td>\n",
       "      <td>70</td>\n",
       "      <td>160</td>\n",
       "      <td>50</td>\n",
       "      <td>70</td>\n",
       "      <td>160</td>\n",
       "      <td>90</td>\n",
       "      <td>600</td>\n",
       "    </tr>\n",
       "    <tr>\n",
       "      <th>494</th>\n",
       "      <td>Bastiodon</td>\n",
       "      <td>NaN</td>\n",
       "      <td>ROCK</td>\n",
       "      <td>STEEL</td>\n",
       "      <td>52</td>\n",
       "      <td>168</td>\n",
       "      <td>60</td>\n",
       "      <td>47</td>\n",
       "      <td>138</td>\n",
       "      <td>30</td>\n",
       "      <td>495</td>\n",
       "    </tr>\n",
       "    <tr>\n",
       "      <th>834</th>\n",
       "      <td>Avalugg</td>\n",
       "      <td>NaN</td>\n",
       "      <td>ICE</td>\n",
       "      <td>NaN</td>\n",
       "      <td>117</td>\n",
       "      <td>184</td>\n",
       "      <td>95</td>\n",
       "      <td>44</td>\n",
       "      <td>46</td>\n",
       "      <td>28</td>\n",
       "      <td>514</td>\n",
       "    </tr>\n",
       "    <tr>\n",
       "      <th>880</th>\n",
       "      <td>Toxapex</td>\n",
       "      <td>NaN</td>\n",
       "      <td>POISON</td>\n",
       "      <td>WATER</td>\n",
       "      <td>63</td>\n",
       "      <td>152</td>\n",
       "      <td>50</td>\n",
       "      <td>53</td>\n",
       "      <td>142</td>\n",
       "      <td>35</td>\n",
       "      <td>495</td>\n",
       "    </tr>\n",
       "    <tr>\n",
       "      <th>941</th>\n",
       "      <td>Stakataka</td>\n",
       "      <td>NaN</td>\n",
       "      <td>ROCK</td>\n",
       "      <td>STEEL</td>\n",
       "      <td>131</td>\n",
       "      <td>211</td>\n",
       "      <td>61</td>\n",
       "      <td>53</td>\n",
       "      <td>101</td>\n",
       "      <td>13</td>\n",
       "      <td>570</td>\n",
       "    </tr>\n",
       "    <tr>\n",
       "      <th>1033</th>\n",
       "      <td>Eternatus</td>\n",
       "      <td>Eternamax</td>\n",
       "      <td>POISON</td>\n",
       "      <td>DRAGON</td>\n",
       "      <td>115</td>\n",
       "      <td>250</td>\n",
       "      <td>255</td>\n",
       "      <td>125</td>\n",
       "      <td>250</td>\n",
       "      <td>130</td>\n",
       "      <td>1125</td>\n",
       "    </tr>\n",
       "  </tbody>\n",
       "</table>\n",
       "</div>"
      ],
      "text/plain": [
       "           Name           Name2 Primary Type Secondary type  Attack  Defense  \\\n",
       "106     Slowbro    Mega Slowbro        WATER        PSYCHIC      75      180   \n",
       "121    Cloyster             NaN        WATER            ICE      95      180   \n",
       "126        Onix             NaN         ROCK         GROUND      45      160   \n",
       "255     Steelix             NaN        STEEL         GROUND      85      200   \n",
       "256     Steelix    Mega Steelix        STEEL         GROUND     125      230   \n",
       "262     Shuckle             NaN          BUG           ROCK      10      230   \n",
       "367      Aggron             NaN        STEEL           ROCK     110      180   \n",
       "368      Aggron     Mega Aggron        STEEL            NaN     140      230   \n",
       "452    Regirock             NaN         ROCK            NaN     100      200   \n",
       "462     Groudon  Primal Groudon       GROUND           FIRE     180      160   \n",
       "468      Deoxys   Defense Forme      PSYCHIC            NaN      70      160   \n",
       "494   Bastiodon             NaN         ROCK          STEEL      52      168   \n",
       "834     Avalugg             NaN          ICE            NaN     117      184   \n",
       "880     Toxapex             NaN       POISON          WATER      63      152   \n",
       "941   Stakataka             NaN         ROCK          STEEL     131      211   \n",
       "1033  Eternatus       Eternamax       POISON         DRAGON     115      250   \n",
       "\n",
       "       HP  Sp.Attack  Sp.Defense  Speed  Total  \n",
       "106    95        130          80     30    590  \n",
       "121    50         85          45     70    525  \n",
       "126    35         30          45     70    385  \n",
       "255    75         55          65     30    510  \n",
       "256    75         55          95     30    610  \n",
       "262    20         10         230      5    505  \n",
       "367    70         60          60     50    530  \n",
       "368    70         60          80     50    630  \n",
       "452    80         50         100     50    580  \n",
       "462   100        150          90     90    770  \n",
       "468    50         70         160     90    600  \n",
       "494    60         47         138     30    495  \n",
       "834    95         44          46     28    514  \n",
       "880    50         53         142     35    495  \n",
       "941    61         53         101     13    570  \n",
       "1033  255        125         250    130   1125  "
      ]
     },
     "execution_count": 25,
     "metadata": {},
     "output_type": "execute_result"
    }
   ],
   "source": [
    "#method 2\n",
    "df[df['Defense'].map(lambda defense_150:defense_150 > 150)]"
   ]
  },
  {
   "cell_type": "code",
   "execution_count": 26,
   "metadata": {},
   "outputs": [],
   "source": [
    "defense_150_method3 = []\n",
    "for i in df['Defense']:\n",
    "    if i>150:\n",
    "        defense_150_method3.append(True)\n",
    "    else:\n",
    "        defense_150_method3.append(False)\n",
    "        "
   ]
  },
  {
   "cell_type": "code",
   "execution_count": 27,
   "metadata": {},
   "outputs": [],
   "source": [
    "defense = pd.Series(defense_150_method3)"
   ]
  },
  {
   "cell_type": "code",
   "execution_count": 28,
   "metadata": {},
   "outputs": [
    {
     "data": {
      "text/html": [
       "<div>\n",
       "<style scoped>\n",
       "    .dataframe tbody tr th:only-of-type {\n",
       "        vertical-align: middle;\n",
       "    }\n",
       "\n",
       "    .dataframe tbody tr th {\n",
       "        vertical-align: top;\n",
       "    }\n",
       "\n",
       "    .dataframe thead th {\n",
       "        text-align: right;\n",
       "    }\n",
       "</style>\n",
       "<table border=\"1\" class=\"dataframe\">\n",
       "  <thead>\n",
       "    <tr style=\"text-align: right;\">\n",
       "      <th></th>\n",
       "      <th>Name</th>\n",
       "      <th>Name2</th>\n",
       "      <th>Primary Type</th>\n",
       "      <th>Secondary type</th>\n",
       "      <th>Attack</th>\n",
       "      <th>Defense</th>\n",
       "      <th>HP</th>\n",
       "      <th>Sp.Attack</th>\n",
       "      <th>Sp.Defense</th>\n",
       "      <th>Speed</th>\n",
       "      <th>Total</th>\n",
       "    </tr>\n",
       "  </thead>\n",
       "  <tbody>\n",
       "    <tr>\n",
       "      <th>106</th>\n",
       "      <td>Slowbro</td>\n",
       "      <td>Mega Slowbro</td>\n",
       "      <td>WATER</td>\n",
       "      <td>PSYCHIC</td>\n",
       "      <td>75</td>\n",
       "      <td>180</td>\n",
       "      <td>95</td>\n",
       "      <td>130</td>\n",
       "      <td>80</td>\n",
       "      <td>30</td>\n",
       "      <td>590</td>\n",
       "    </tr>\n",
       "    <tr>\n",
       "      <th>121</th>\n",
       "      <td>Cloyster</td>\n",
       "      <td>NaN</td>\n",
       "      <td>WATER</td>\n",
       "      <td>ICE</td>\n",
       "      <td>95</td>\n",
       "      <td>180</td>\n",
       "      <td>50</td>\n",
       "      <td>85</td>\n",
       "      <td>45</td>\n",
       "      <td>70</td>\n",
       "      <td>525</td>\n",
       "    </tr>\n",
       "    <tr>\n",
       "      <th>126</th>\n",
       "      <td>Onix</td>\n",
       "      <td>NaN</td>\n",
       "      <td>ROCK</td>\n",
       "      <td>GROUND</td>\n",
       "      <td>45</td>\n",
       "      <td>160</td>\n",
       "      <td>35</td>\n",
       "      <td>30</td>\n",
       "      <td>45</td>\n",
       "      <td>70</td>\n",
       "      <td>385</td>\n",
       "    </tr>\n",
       "    <tr>\n",
       "      <th>255</th>\n",
       "      <td>Steelix</td>\n",
       "      <td>NaN</td>\n",
       "      <td>STEEL</td>\n",
       "      <td>GROUND</td>\n",
       "      <td>85</td>\n",
       "      <td>200</td>\n",
       "      <td>75</td>\n",
       "      <td>55</td>\n",
       "      <td>65</td>\n",
       "      <td>30</td>\n",
       "      <td>510</td>\n",
       "    </tr>\n",
       "    <tr>\n",
       "      <th>256</th>\n",
       "      <td>Steelix</td>\n",
       "      <td>Mega Steelix</td>\n",
       "      <td>STEEL</td>\n",
       "      <td>GROUND</td>\n",
       "      <td>125</td>\n",
       "      <td>230</td>\n",
       "      <td>75</td>\n",
       "      <td>55</td>\n",
       "      <td>95</td>\n",
       "      <td>30</td>\n",
       "      <td>610</td>\n",
       "    </tr>\n",
       "    <tr>\n",
       "      <th>262</th>\n",
       "      <td>Shuckle</td>\n",
       "      <td>NaN</td>\n",
       "      <td>BUG</td>\n",
       "      <td>ROCK</td>\n",
       "      <td>10</td>\n",
       "      <td>230</td>\n",
       "      <td>20</td>\n",
       "      <td>10</td>\n",
       "      <td>230</td>\n",
       "      <td>5</td>\n",
       "      <td>505</td>\n",
       "    </tr>\n",
       "    <tr>\n",
       "      <th>367</th>\n",
       "      <td>Aggron</td>\n",
       "      <td>NaN</td>\n",
       "      <td>STEEL</td>\n",
       "      <td>ROCK</td>\n",
       "      <td>110</td>\n",
       "      <td>180</td>\n",
       "      <td>70</td>\n",
       "      <td>60</td>\n",
       "      <td>60</td>\n",
       "      <td>50</td>\n",
       "      <td>530</td>\n",
       "    </tr>\n",
       "    <tr>\n",
       "      <th>368</th>\n",
       "      <td>Aggron</td>\n",
       "      <td>Mega Aggron</td>\n",
       "      <td>STEEL</td>\n",
       "      <td>NaN</td>\n",
       "      <td>140</td>\n",
       "      <td>230</td>\n",
       "      <td>70</td>\n",
       "      <td>60</td>\n",
       "      <td>80</td>\n",
       "      <td>50</td>\n",
       "      <td>630</td>\n",
       "    </tr>\n",
       "    <tr>\n",
       "      <th>452</th>\n",
       "      <td>Regirock</td>\n",
       "      <td>NaN</td>\n",
       "      <td>ROCK</td>\n",
       "      <td>NaN</td>\n",
       "      <td>100</td>\n",
       "      <td>200</td>\n",
       "      <td>80</td>\n",
       "      <td>50</td>\n",
       "      <td>100</td>\n",
       "      <td>50</td>\n",
       "      <td>580</td>\n",
       "    </tr>\n",
       "    <tr>\n",
       "      <th>462</th>\n",
       "      <td>Groudon</td>\n",
       "      <td>Primal Groudon</td>\n",
       "      <td>GROUND</td>\n",
       "      <td>FIRE</td>\n",
       "      <td>180</td>\n",
       "      <td>160</td>\n",
       "      <td>100</td>\n",
       "      <td>150</td>\n",
       "      <td>90</td>\n",
       "      <td>90</td>\n",
       "      <td>770</td>\n",
       "    </tr>\n",
       "    <tr>\n",
       "      <th>468</th>\n",
       "      <td>Deoxys</td>\n",
       "      <td>Defense Forme</td>\n",
       "      <td>PSYCHIC</td>\n",
       "      <td>NaN</td>\n",
       "      <td>70</td>\n",
       "      <td>160</td>\n",
       "      <td>50</td>\n",
       "      <td>70</td>\n",
       "      <td>160</td>\n",
       "      <td>90</td>\n",
       "      <td>600</td>\n",
       "    </tr>\n",
       "    <tr>\n",
       "      <th>494</th>\n",
       "      <td>Bastiodon</td>\n",
       "      <td>NaN</td>\n",
       "      <td>ROCK</td>\n",
       "      <td>STEEL</td>\n",
       "      <td>52</td>\n",
       "      <td>168</td>\n",
       "      <td>60</td>\n",
       "      <td>47</td>\n",
       "      <td>138</td>\n",
       "      <td>30</td>\n",
       "      <td>495</td>\n",
       "    </tr>\n",
       "    <tr>\n",
       "      <th>834</th>\n",
       "      <td>Avalugg</td>\n",
       "      <td>NaN</td>\n",
       "      <td>ICE</td>\n",
       "      <td>NaN</td>\n",
       "      <td>117</td>\n",
       "      <td>184</td>\n",
       "      <td>95</td>\n",
       "      <td>44</td>\n",
       "      <td>46</td>\n",
       "      <td>28</td>\n",
       "      <td>514</td>\n",
       "    </tr>\n",
       "    <tr>\n",
       "      <th>880</th>\n",
       "      <td>Toxapex</td>\n",
       "      <td>NaN</td>\n",
       "      <td>POISON</td>\n",
       "      <td>WATER</td>\n",
       "      <td>63</td>\n",
       "      <td>152</td>\n",
       "      <td>50</td>\n",
       "      <td>53</td>\n",
       "      <td>142</td>\n",
       "      <td>35</td>\n",
       "      <td>495</td>\n",
       "    </tr>\n",
       "    <tr>\n",
       "      <th>941</th>\n",
       "      <td>Stakataka</td>\n",
       "      <td>NaN</td>\n",
       "      <td>ROCK</td>\n",
       "      <td>STEEL</td>\n",
       "      <td>131</td>\n",
       "      <td>211</td>\n",
       "      <td>61</td>\n",
       "      <td>53</td>\n",
       "      <td>101</td>\n",
       "      <td>13</td>\n",
       "      <td>570</td>\n",
       "    </tr>\n",
       "    <tr>\n",
       "      <th>1033</th>\n",
       "      <td>Eternatus</td>\n",
       "      <td>Eternamax</td>\n",
       "      <td>POISON</td>\n",
       "      <td>DRAGON</td>\n",
       "      <td>115</td>\n",
       "      <td>250</td>\n",
       "      <td>255</td>\n",
       "      <td>125</td>\n",
       "      <td>250</td>\n",
       "      <td>130</td>\n",
       "      <td>1125</td>\n",
       "    </tr>\n",
       "  </tbody>\n",
       "</table>\n",
       "</div>"
      ],
      "text/plain": [
       "           Name           Name2 Primary Type Secondary type  Attack  Defense  \\\n",
       "106     Slowbro    Mega Slowbro        WATER        PSYCHIC      75      180   \n",
       "121    Cloyster             NaN        WATER            ICE      95      180   \n",
       "126        Onix             NaN         ROCK         GROUND      45      160   \n",
       "255     Steelix             NaN        STEEL         GROUND      85      200   \n",
       "256     Steelix    Mega Steelix        STEEL         GROUND     125      230   \n",
       "262     Shuckle             NaN          BUG           ROCK      10      230   \n",
       "367      Aggron             NaN        STEEL           ROCK     110      180   \n",
       "368      Aggron     Mega Aggron        STEEL            NaN     140      230   \n",
       "452    Regirock             NaN         ROCK            NaN     100      200   \n",
       "462     Groudon  Primal Groudon       GROUND           FIRE     180      160   \n",
       "468      Deoxys   Defense Forme      PSYCHIC            NaN      70      160   \n",
       "494   Bastiodon             NaN         ROCK          STEEL      52      168   \n",
       "834     Avalugg             NaN          ICE            NaN     117      184   \n",
       "880     Toxapex             NaN       POISON          WATER      63      152   \n",
       "941   Stakataka             NaN         ROCK          STEEL     131      211   \n",
       "1033  Eternatus       Eternamax       POISON         DRAGON     115      250   \n",
       "\n",
       "       HP  Sp.Attack  Sp.Defense  Speed  Total  \n",
       "106    95        130          80     30    590  \n",
       "121    50         85          45     70    525  \n",
       "126    35         30          45     70    385  \n",
       "255    75         55          65     30    510  \n",
       "256    75         55          95     30    610  \n",
       "262    20         10         230      5    505  \n",
       "367    70         60          60     50    530  \n",
       "368    70         60          80     50    630  \n",
       "452    80         50         100     50    580  \n",
       "462   100        150          90     90    770  \n",
       "468    50         70         160     90    600  \n",
       "494    60         47         138     30    495  \n",
       "834    95         44          46     28    514  \n",
       "880    50         53         142     35    495  \n",
       "941    61         53         101     13    570  \n",
       "1033  255        125         250    130   1125  "
      ]
     },
     "execution_count": 28,
     "metadata": {},
     "output_type": "execute_result"
    }
   ],
   "source": [
    "df[defense]"
   ]
  },
  {
   "cell_type": "markdown",
   "metadata": {},
   "source": [
    "### Muliple Filtering"
   ]
  },
  {
   "cell_type": "markdown",
   "metadata": {},
   "source": [
    "Let us now consider those `Pokemons` with `Attack` and `Defense` both greater than `180` and `160` respectively "
   ]
  },
  {
   "cell_type": "code",
   "execution_count": 29,
   "metadata": {},
   "outputs": [
    {
     "data": {
      "text/html": [
       "<div>\n",
       "<style scoped>\n",
       "    .dataframe tbody tr th:only-of-type {\n",
       "        vertical-align: middle;\n",
       "    }\n",
       "\n",
       "    .dataframe tbody tr th {\n",
       "        vertical-align: top;\n",
       "    }\n",
       "\n",
       "    .dataframe thead th {\n",
       "        text-align: right;\n",
       "    }\n",
       "</style>\n",
       "<table border=\"1\" class=\"dataframe\">\n",
       "  <thead>\n",
       "    <tr style=\"text-align: right;\">\n",
       "      <th></th>\n",
       "      <th>Name</th>\n",
       "      <th>Name2</th>\n",
       "      <th>Primary Type</th>\n",
       "      <th>Secondary type</th>\n",
       "      <th>Attack</th>\n",
       "      <th>Defense</th>\n",
       "      <th>HP</th>\n",
       "      <th>Sp.Attack</th>\n",
       "      <th>Sp.Defense</th>\n",
       "      <th>Speed</th>\n",
       "      <th>Total</th>\n",
       "    </tr>\n",
       "  </thead>\n",
       "  <tbody>\n",
       "  </tbody>\n",
       "</table>\n",
       "</div>"
      ],
      "text/plain": [
       "Empty DataFrame\n",
       "Columns: [Name, Name2, Primary Type, Secondary type, Attack, Defense, HP, Sp.Attack, Sp.Defense, Speed, Total]\n",
       "Index: []"
      ]
     },
     "execution_count": 29,
     "metadata": {},
     "output_type": "execute_result"
    }
   ],
   "source": [
    "#approach 1\n",
    "attack_defense = df[(df['Attack']>180) & (df['Defense']>160)]\n",
    "attack_defense.head(10)"
   ]
  },
  {
   "cell_type": "markdown",
   "metadata": {},
   "source": [
    "Oops! It seems there is no `Pokemon` in data satisfying the condition. Don't get me wrong as we are not considering the special attack and special defence to make the `Pokemon` powerful. For time being let us try `Attack` and `Defense` to be more than 100"
   ]
  },
  {
   "cell_type": "code",
   "execution_count": 30,
   "metadata": {},
   "outputs": [
    {
     "data": {
      "text/html": [
       "<div>\n",
       "<style scoped>\n",
       "    .dataframe tbody tr th:only-of-type {\n",
       "        vertical-align: middle;\n",
       "    }\n",
       "\n",
       "    .dataframe tbody tr th {\n",
       "        vertical-align: top;\n",
       "    }\n",
       "\n",
       "    .dataframe thead th {\n",
       "        text-align: right;\n",
       "    }\n",
       "</style>\n",
       "<table border=\"1\" class=\"dataframe\">\n",
       "  <thead>\n",
       "    <tr style=\"text-align: right;\">\n",
       "      <th></th>\n",
       "      <th>Name</th>\n",
       "      <th>Name2</th>\n",
       "      <th>Primary Type</th>\n",
       "      <th>Secondary type</th>\n",
       "      <th>Attack</th>\n",
       "      <th>Defense</th>\n",
       "      <th>HP</th>\n",
       "      <th>Sp.Attack</th>\n",
       "      <th>Sp.Defense</th>\n",
       "      <th>Speed</th>\n",
       "      <th>Total</th>\n",
       "    </tr>\n",
       "  </thead>\n",
       "  <tbody>\n",
       "    <tr>\n",
       "      <th>7</th>\n",
       "      <td>Charizard</td>\n",
       "      <td>Mega Charizard X</td>\n",
       "      <td>FIRE</td>\n",
       "      <td>DRAGON</td>\n",
       "      <td>130</td>\n",
       "      <td>111</td>\n",
       "      <td>78</td>\n",
       "      <td>130</td>\n",
       "      <td>85</td>\n",
       "      <td>100</td>\n",
       "      <td>634</td>\n",
       "    </tr>\n",
       "    <tr>\n",
       "      <th>12</th>\n",
       "      <td>Blastoise</td>\n",
       "      <td>Mega Blastoise</td>\n",
       "      <td>WATER</td>\n",
       "      <td>NaN</td>\n",
       "      <td>103</td>\n",
       "      <td>120</td>\n",
       "      <td>79</td>\n",
       "      <td>135</td>\n",
       "      <td>115</td>\n",
       "      <td>78</td>\n",
       "      <td>630</td>\n",
       "    </tr>\n",
       "    <tr>\n",
       "      <th>97</th>\n",
       "      <td>Golem</td>\n",
       "      <td>NaN</td>\n",
       "      <td>ROCK</td>\n",
       "      <td>GROUND</td>\n",
       "      <td>120</td>\n",
       "      <td>130</td>\n",
       "      <td>80</td>\n",
       "      <td>55</td>\n",
       "      <td>65</td>\n",
       "      <td>45</td>\n",
       "      <td>495</td>\n",
       "    </tr>\n",
       "    <tr>\n",
       "      <th>98</th>\n",
       "      <td>Golem</td>\n",
       "      <td>Alolan Golem</td>\n",
       "      <td>ROCK</td>\n",
       "      <td>ELECTRIC</td>\n",
       "      <td>120</td>\n",
       "      <td>130</td>\n",
       "      <td>80</td>\n",
       "      <td>55</td>\n",
       "      <td>65</td>\n",
       "      <td>45</td>\n",
       "      <td>495</td>\n",
       "    </tr>\n",
       "    <tr>\n",
       "      <th>130</th>\n",
       "      <td>Kingler</td>\n",
       "      <td>NaN</td>\n",
       "      <td>WATER</td>\n",
       "      <td>NaN</td>\n",
       "      <td>130</td>\n",
       "      <td>115</td>\n",
       "      <td>55</td>\n",
       "      <td>50</td>\n",
       "      <td>50</td>\n",
       "      <td>75</td>\n",
       "      <td>475</td>\n",
       "    </tr>\n",
       "    <tr>\n",
       "      <th>146</th>\n",
       "      <td>Rhydon</td>\n",
       "      <td>NaN</td>\n",
       "      <td>GROUND</td>\n",
       "      <td>ROCK</td>\n",
       "      <td>130</td>\n",
       "      <td>120</td>\n",
       "      <td>105</td>\n",
       "      <td>45</td>\n",
       "      <td>45</td>\n",
       "      <td>40</td>\n",
       "      <td>485</td>\n",
       "    </tr>\n",
       "    <tr>\n",
       "      <th>164</th>\n",
       "      <td>Pinsir</td>\n",
       "      <td>Mega Pinsir</td>\n",
       "      <td>BUG</td>\n",
       "      <td>FLYING</td>\n",
       "      <td>155</td>\n",
       "      <td>120</td>\n",
       "      <td>65</td>\n",
       "      <td>65</td>\n",
       "      <td>90</td>\n",
       "      <td>105</td>\n",
       "      <td>600</td>\n",
       "    </tr>\n",
       "    <tr>\n",
       "      <th>168</th>\n",
       "      <td>Gyarados</td>\n",
       "      <td>Mega Gyarados</td>\n",
       "      <td>WATER</td>\n",
       "      <td>DARK</td>\n",
       "      <td>155</td>\n",
       "      <td>109</td>\n",
       "      <td>95</td>\n",
       "      <td>70</td>\n",
       "      <td>130</td>\n",
       "      <td>81</td>\n",
       "      <td>640</td>\n",
       "    </tr>\n",
       "    <tr>\n",
       "      <th>180</th>\n",
       "      <td>Kabutops</td>\n",
       "      <td>NaN</td>\n",
       "      <td>ROCK</td>\n",
       "      <td>WATER</td>\n",
       "      <td>115</td>\n",
       "      <td>105</td>\n",
       "      <td>60</td>\n",
       "      <td>65</td>\n",
       "      <td>70</td>\n",
       "      <td>80</td>\n",
       "      <td>495</td>\n",
       "    </tr>\n",
       "    <tr>\n",
       "      <th>256</th>\n",
       "      <td>Steelix</td>\n",
       "      <td>Mega Steelix</td>\n",
       "      <td>STEEL</td>\n",
       "      <td>GROUND</td>\n",
       "      <td>125</td>\n",
       "      <td>230</td>\n",
       "      <td>75</td>\n",
       "      <td>55</td>\n",
       "      <td>95</td>\n",
       "      <td>30</td>\n",
       "      <td>610</td>\n",
       "    </tr>\n",
       "  </tbody>\n",
       "</table>\n",
       "</div>"
      ],
      "text/plain": [
       "          Name             Name2 Primary Type Secondary type  Attack  Defense  \\\n",
       "7    Charizard  Mega Charizard X         FIRE         DRAGON     130      111   \n",
       "12   Blastoise    Mega Blastoise        WATER            NaN     103      120   \n",
       "97       Golem               NaN         ROCK         GROUND     120      130   \n",
       "98       Golem      Alolan Golem         ROCK       ELECTRIC     120      130   \n",
       "130    Kingler               NaN        WATER            NaN     130      115   \n",
       "146     Rhydon               NaN       GROUND           ROCK     130      120   \n",
       "164     Pinsir       Mega Pinsir          BUG         FLYING     155      120   \n",
       "168   Gyarados     Mega Gyarados        WATER           DARK     155      109   \n",
       "180   Kabutops               NaN         ROCK          WATER     115      105   \n",
       "256    Steelix      Mega Steelix        STEEL         GROUND     125      230   \n",
       "\n",
       "      HP  Sp.Attack  Sp.Defense  Speed  Total  \n",
       "7     78        130          85    100    634  \n",
       "12    79        135         115     78    630  \n",
       "97    80         55          65     45    495  \n",
       "98    80         55          65     45    495  \n",
       "130   55         50          50     75    475  \n",
       "146  105         45          45     40    485  \n",
       "164   65         65          90    105    600  \n",
       "168   95         70         130     81    640  \n",
       "180   60         65          70     80    495  \n",
       "256   75         55          95     30    610  "
      ]
     },
     "execution_count": 30,
     "metadata": {},
     "output_type": "execute_result"
    }
   ],
   "source": [
    "attack_defense = df[(df['Attack']>100) & (df['Defense']>100)]\n",
    "attack_defense.head(10)"
   ]
  },
  {
   "cell_type": "markdown",
   "metadata": {},
   "source": [
    "### Check those `Pokemon` that belongs to two `Type`"
   ]
  },
  {
   "cell_type": "code",
   "execution_count": 31,
   "metadata": {},
   "outputs": [
    {
     "data": {
      "text/html": [
       "<div>\n",
       "<style scoped>\n",
       "    .dataframe tbody tr th:only-of-type {\n",
       "        vertical-align: middle;\n",
       "    }\n",
       "\n",
       "    .dataframe tbody tr th {\n",
       "        vertical-align: top;\n",
       "    }\n",
       "\n",
       "    .dataframe thead th {\n",
       "        text-align: right;\n",
       "    }\n",
       "</style>\n",
       "<table border=\"1\" class=\"dataframe\">\n",
       "  <thead>\n",
       "    <tr style=\"text-align: right;\">\n",
       "      <th></th>\n",
       "      <th>Name</th>\n",
       "      <th>Name2</th>\n",
       "      <th>Primary Type</th>\n",
       "      <th>Secondary type</th>\n",
       "      <th>Attack</th>\n",
       "      <th>Defense</th>\n",
       "      <th>HP</th>\n",
       "      <th>Sp.Attack</th>\n",
       "      <th>Sp.Defense</th>\n",
       "      <th>Speed</th>\n",
       "      <th>Total</th>\n",
       "    </tr>\n",
       "  </thead>\n",
       "  <tbody>\n",
       "    <tr>\n",
       "      <th>846</th>\n",
       "      <td>Volcanion</td>\n",
       "      <td>NaN</td>\n",
       "      <td>FIRE</td>\n",
       "      <td>WATER</td>\n",
       "      <td>110</td>\n",
       "      <td>120</td>\n",
       "      <td>80</td>\n",
       "      <td>130</td>\n",
       "      <td>90</td>\n",
       "      <td>70</td>\n",
       "      <td>600</td>\n",
       "    </tr>\n",
       "  </tbody>\n",
       "</table>\n",
       "</div>"
      ],
      "text/plain": [
       "          Name Name2 Primary Type Secondary type  Attack  Defense  HP  \\\n",
       "846  Volcanion   NaN         FIRE          WATER     110      120  80   \n",
       "\n",
       "     Sp.Attack  Sp.Defense  Speed  Total  \n",
       "846        130          90     70    600  "
      ]
     },
     "execution_count": 31,
     "metadata": {},
     "output_type": "execute_result"
    }
   ],
   "source": [
    "fire_water = df[(df[\"Primary Type\"]==\"FIRE\") & (df['Secondary type']==\"WATER\")]\n",
    "fire_water.head(10)"
   ]
  },
  {
   "cell_type": "code",
   "execution_count": 32,
   "metadata": {},
   "outputs": [
    {
     "data": {
      "text/html": [
       "<div>\n",
       "<style scoped>\n",
       "    .dataframe tbody tr th:only-of-type {\n",
       "        vertical-align: middle;\n",
       "    }\n",
       "\n",
       "    .dataframe tbody tr th {\n",
       "        vertical-align: top;\n",
       "    }\n",
       "\n",
       "    .dataframe thead th {\n",
       "        text-align: right;\n",
       "    }\n",
       "</style>\n",
       "<table border=\"1\" class=\"dataframe\">\n",
       "  <thead>\n",
       "    <tr style=\"text-align: right;\">\n",
       "      <th></th>\n",
       "      <th>Name</th>\n",
       "      <th>Name2</th>\n",
       "      <th>Primary Type</th>\n",
       "      <th>Secondary type</th>\n",
       "      <th>Attack</th>\n",
       "      <th>Defense</th>\n",
       "      <th>HP</th>\n",
       "      <th>Sp.Attack</th>\n",
       "      <th>Sp.Defense</th>\n",
       "      <th>Speed</th>\n",
       "      <th>Total</th>\n",
       "    </tr>\n",
       "  </thead>\n",
       "  <tbody>\n",
       "  </tbody>\n",
       "</table>\n",
       "</div>"
      ],
      "text/plain": [
       "Empty DataFrame\n",
       "Columns: [Name, Name2, Primary Type, Secondary type, Attack, Defense, HP, Sp.Attack, Sp.Defense, Speed, Total]\n",
       "Index: []"
      ]
     },
     "execution_count": 32,
     "metadata": {},
     "output_type": "execute_result"
    }
   ],
   "source": [
    "water_fire = df[(df[\"Primary Type\"]==\"WATER\") & (df['Secondary type']==\"FIRE\")]\n",
    "water_fire.head(10)"
   ]
  },
  {
   "cell_type": "code",
   "execution_count": 33,
   "metadata": {},
   "outputs": [
    {
     "data": {
      "text/html": [
       "<div>\n",
       "<style scoped>\n",
       "    .dataframe tbody tr th:only-of-type {\n",
       "        vertical-align: middle;\n",
       "    }\n",
       "\n",
       "    .dataframe tbody tr th {\n",
       "        vertical-align: top;\n",
       "    }\n",
       "\n",
       "    .dataframe thead th {\n",
       "        text-align: right;\n",
       "    }\n",
       "</style>\n",
       "<table border=\"1\" class=\"dataframe\">\n",
       "  <thead>\n",
       "    <tr style=\"text-align: right;\">\n",
       "      <th></th>\n",
       "      <th>Name</th>\n",
       "      <th>Name2</th>\n",
       "      <th>Primary Type</th>\n",
       "      <th>Secondary type</th>\n",
       "      <th>Attack</th>\n",
       "      <th>Defense</th>\n",
       "      <th>HP</th>\n",
       "      <th>Sp.Attack</th>\n",
       "      <th>Sp.Defense</th>\n",
       "      <th>Speed</th>\n",
       "      <th>Total</th>\n",
       "    </tr>\n",
       "  </thead>\n",
       "  <tbody>\n",
       "    <tr>\n",
       "      <th>91</th>\n",
       "      <td>Tentacool</td>\n",
       "      <td>NaN</td>\n",
       "      <td>WATER</td>\n",
       "      <td>POISON</td>\n",
       "      <td>40</td>\n",
       "      <td>35</td>\n",
       "      <td>40</td>\n",
       "      <td>50</td>\n",
       "      <td>100</td>\n",
       "      <td>70</td>\n",
       "      <td>335</td>\n",
       "    </tr>\n",
       "    <tr>\n",
       "      <th>92</th>\n",
       "      <td>Tentacruel</td>\n",
       "      <td>NaN</td>\n",
       "      <td>WATER</td>\n",
       "      <td>POISON</td>\n",
       "      <td>70</td>\n",
       "      <td>65</td>\n",
       "      <td>80</td>\n",
       "      <td>80</td>\n",
       "      <td>120</td>\n",
       "      <td>100</td>\n",
       "      <td>515</td>\n",
       "    </tr>\n",
       "    <tr>\n",
       "      <th>259</th>\n",
       "      <td>Qwilfish</td>\n",
       "      <td>NaN</td>\n",
       "      <td>WATER</td>\n",
       "      <td>POISON</td>\n",
       "      <td>95</td>\n",
       "      <td>85</td>\n",
       "      <td>65</td>\n",
       "      <td>55</td>\n",
       "      <td>55</td>\n",
       "      <td>85</td>\n",
       "      <td>440</td>\n",
       "    </tr>\n",
       "  </tbody>\n",
       "</table>\n",
       "</div>"
      ],
      "text/plain": [
       "           Name Name2 Primary Type Secondary type  Attack  Defense  HP  \\\n",
       "91    Tentacool   NaN        WATER         POISON      40       35  40   \n",
       "92   Tentacruel   NaN        WATER         POISON      70       65  80   \n",
       "259    Qwilfish   NaN        WATER         POISON      95       85  65   \n",
       "\n",
       "     Sp.Attack  Sp.Defense  Speed  Total  \n",
       "91          50         100     70    335  \n",
       "92          80         120    100    515  \n",
       "259         55          55     85    440  "
      ]
     },
     "execution_count": 33,
     "metadata": {},
     "output_type": "execute_result"
    }
   ],
   "source": [
    "water_poison = df[(df[\"Primary Type\"]==\"WATER\") & (df['Secondary type']==\"POISON\")]\n",
    "water_poison.head(10)"
   ]
  },
  {
   "cell_type": "code",
   "execution_count": 34,
   "metadata": {},
   "outputs": [
    {
     "data": {
      "text/html": [
       "<div>\n",
       "<style scoped>\n",
       "    .dataframe tbody tr th:only-of-type {\n",
       "        vertical-align: middle;\n",
       "    }\n",
       "\n",
       "    .dataframe tbody tr th {\n",
       "        vertical-align: top;\n",
       "    }\n",
       "\n",
       "    .dataframe thead th {\n",
       "        text-align: right;\n",
       "    }\n",
       "</style>\n",
       "<table border=\"1\" class=\"dataframe\">\n",
       "  <thead>\n",
       "    <tr style=\"text-align: right;\">\n",
       "      <th></th>\n",
       "      <th>Name</th>\n",
       "      <th>Name2</th>\n",
       "      <th>Primary Type</th>\n",
       "      <th>Secondary type</th>\n",
       "      <th>Attack</th>\n",
       "      <th>Defense</th>\n",
       "      <th>HP</th>\n",
       "      <th>Sp.Attack</th>\n",
       "      <th>Sp.Defense</th>\n",
       "      <th>Speed</th>\n",
       "      <th>Total</th>\n",
       "    </tr>\n",
       "  </thead>\n",
       "  <tbody>\n",
       "    <tr>\n",
       "      <th>805</th>\n",
       "      <td>Skrelp</td>\n",
       "      <td>NaN</td>\n",
       "      <td>POISON</td>\n",
       "      <td>WATER</td>\n",
       "      <td>60</td>\n",
       "      <td>60</td>\n",
       "      <td>50</td>\n",
       "      <td>60</td>\n",
       "      <td>60</td>\n",
       "      <td>30</td>\n",
       "      <td>320</td>\n",
       "    </tr>\n",
       "    <tr>\n",
       "      <th>879</th>\n",
       "      <td>Mareanie</td>\n",
       "      <td>NaN</td>\n",
       "      <td>POISON</td>\n",
       "      <td>WATER</td>\n",
       "      <td>53</td>\n",
       "      <td>62</td>\n",
       "      <td>50</td>\n",
       "      <td>43</td>\n",
       "      <td>52</td>\n",
       "      <td>45</td>\n",
       "      <td>305</td>\n",
       "    </tr>\n",
       "    <tr>\n",
       "      <th>880</th>\n",
       "      <td>Toxapex</td>\n",
       "      <td>NaN</td>\n",
       "      <td>POISON</td>\n",
       "      <td>WATER</td>\n",
       "      <td>63</td>\n",
       "      <td>152</td>\n",
       "      <td>50</td>\n",
       "      <td>53</td>\n",
       "      <td>142</td>\n",
       "      <td>35</td>\n",
       "      <td>495</td>\n",
       "    </tr>\n",
       "  </tbody>\n",
       "</table>\n",
       "</div>"
      ],
      "text/plain": [
       "         Name Name2 Primary Type Secondary type  Attack  Defense  HP  \\\n",
       "805    Skrelp   NaN       POISON          WATER      60       60  50   \n",
       "879  Mareanie   NaN       POISON          WATER      53       62  50   \n",
       "880   Toxapex   NaN       POISON          WATER      63      152  50   \n",
       "\n",
       "     Sp.Attack  Sp.Defense  Speed  Total  \n",
       "805         60          60     30    320  \n",
       "879         43          52     45    305  \n",
       "880         53         142     35    495  "
      ]
     },
     "execution_count": 34,
     "metadata": {},
     "output_type": "execute_result"
    }
   ],
   "source": [
    "poison_w = df[(df[\"Primary Type\"]==\"POISON\") & (df['Secondary type']==\"WATER\")]\n",
    "poison_w.head(10)"
   ]
  },
  {
   "cell_type": "code",
   "execution_count": 35,
   "metadata": {},
   "outputs": [
    {
     "data": {
      "text/html": [
       "<div>\n",
       "<style scoped>\n",
       "    .dataframe tbody tr th:only-of-type {\n",
       "        vertical-align: middle;\n",
       "    }\n",
       "\n",
       "    .dataframe tbody tr th {\n",
       "        vertical-align: top;\n",
       "    }\n",
       "\n",
       "    .dataframe thead th {\n",
       "        text-align: right;\n",
       "    }\n",
       "</style>\n",
       "<table border=\"1\" class=\"dataframe\">\n",
       "  <thead>\n",
       "    <tr style=\"text-align: right;\">\n",
       "      <th></th>\n",
       "      <th>Name</th>\n",
       "      <th>Name2</th>\n",
       "      <th>Primary Type</th>\n",
       "      <th>Secondary type</th>\n",
       "      <th>Attack</th>\n",
       "      <th>Defense</th>\n",
       "      <th>HP</th>\n",
       "      <th>Sp.Attack</th>\n",
       "      <th>Sp.Defense</th>\n",
       "      <th>Speed</th>\n",
       "      <th>Total</th>\n",
       "    </tr>\n",
       "  </thead>\n",
       "  <tbody>\n",
       "    <tr>\n",
       "      <th>7</th>\n",
       "      <td>Charizard</td>\n",
       "      <td>Mega Charizard X</td>\n",
       "      <td>FIRE</td>\n",
       "      <td>DRAGON</td>\n",
       "      <td>130</td>\n",
       "      <td>111</td>\n",
       "      <td>78</td>\n",
       "      <td>130</td>\n",
       "      <td>85</td>\n",
       "      <td>100</td>\n",
       "      <td>634</td>\n",
       "    </tr>\n",
       "    <tr>\n",
       "      <th>909</th>\n",
       "      <td>Turtonator</td>\n",
       "      <td>NaN</td>\n",
       "      <td>FIRE</td>\n",
       "      <td>DRAGON</td>\n",
       "      <td>78</td>\n",
       "      <td>135</td>\n",
       "      <td>60</td>\n",
       "      <td>91</td>\n",
       "      <td>85</td>\n",
       "      <td>36</td>\n",
       "      <td>485</td>\n",
       "    </tr>\n",
       "  </tbody>\n",
       "</table>\n",
       "</div>"
      ],
      "text/plain": [
       "           Name             Name2 Primary Type Secondary type  Attack  \\\n",
       "7     Charizard  Mega Charizard X         FIRE         DRAGON     130   \n",
       "909  Turtonator               NaN         FIRE         DRAGON      78   \n",
       "\n",
       "     Defense  HP  Sp.Attack  Sp.Defense  Speed  Total  \n",
       "7        111  78        130          85    100    634  \n",
       "909      135  60         91          85     36    485  "
      ]
     },
     "execution_count": 35,
     "metadata": {},
     "output_type": "execute_result"
    }
   ],
   "source": [
    "check = df[(df['Primary Type']==\"FIRE\") & (df['Secondary type']==\"DRAGON\")]\n",
    "check"
   ]
  },
  {
   "cell_type": "markdown",
   "metadata": {},
   "source": [
    "## Visualization"
   ]
  },
  {
   "cell_type": "markdown",
   "metadata": {},
   "source": [
    "Before we get into plotting graphs let us know how to deal with `groupby` method."
   ]
  },
  {
   "cell_type": "code",
   "execution_count": 36,
   "metadata": {},
   "outputs": [
    {
     "data": {
      "text/html": [
       "<div>\n",
       "<style scoped>\n",
       "    .dataframe tbody tr th:only-of-type {\n",
       "        vertical-align: middle;\n",
       "    }\n",
       "\n",
       "    .dataframe tbody tr th {\n",
       "        vertical-align: top;\n",
       "    }\n",
       "\n",
       "    .dataframe thead th {\n",
       "        text-align: right;\n",
       "    }\n",
       "</style>\n",
       "<table border=\"1\" class=\"dataframe\">\n",
       "  <thead>\n",
       "    <tr style=\"text-align: right;\">\n",
       "      <th></th>\n",
       "      <th>Name</th>\n",
       "      <th>Name2</th>\n",
       "      <th>Primary Type</th>\n",
       "      <th>Secondary type</th>\n",
       "      <th>Attack</th>\n",
       "      <th>Defense</th>\n",
       "      <th>HP</th>\n",
       "      <th>Sp.Attack</th>\n",
       "      <th>Sp.Defense</th>\n",
       "      <th>Speed</th>\n",
       "      <th>Total</th>\n",
       "    </tr>\n",
       "  </thead>\n",
       "  <tbody>\n",
       "    <tr>\n",
       "      <th>0</th>\n",
       "      <td>Bulbasaur</td>\n",
       "      <td>NaN</td>\n",
       "      <td>GRASS</td>\n",
       "      <td>POISON</td>\n",
       "      <td>49</td>\n",
       "      <td>49</td>\n",
       "      <td>45</td>\n",
       "      <td>65</td>\n",
       "      <td>65</td>\n",
       "      <td>45</td>\n",
       "      <td>318</td>\n",
       "    </tr>\n",
       "    <tr>\n",
       "      <th>1</th>\n",
       "      <td>Ivysaur</td>\n",
       "      <td>NaN</td>\n",
       "      <td>GRASS</td>\n",
       "      <td>POISON</td>\n",
       "      <td>62</td>\n",
       "      <td>63</td>\n",
       "      <td>60</td>\n",
       "      <td>80</td>\n",
       "      <td>80</td>\n",
       "      <td>60</td>\n",
       "      <td>405</td>\n",
       "    </tr>\n",
       "    <tr>\n",
       "      <th>2</th>\n",
       "      <td>Venusaur</td>\n",
       "      <td>NaN</td>\n",
       "      <td>GRASS</td>\n",
       "      <td>POISON</td>\n",
       "      <td>82</td>\n",
       "      <td>83</td>\n",
       "      <td>80</td>\n",
       "      <td>100</td>\n",
       "      <td>100</td>\n",
       "      <td>80</td>\n",
       "      <td>525</td>\n",
       "    </tr>\n",
       "    <tr>\n",
       "      <th>3</th>\n",
       "      <td>Venusaur</td>\n",
       "      <td>Mega Venusaur</td>\n",
       "      <td>GRASS</td>\n",
       "      <td>POISON</td>\n",
       "      <td>100</td>\n",
       "      <td>123</td>\n",
       "      <td>80</td>\n",
       "      <td>122</td>\n",
       "      <td>120</td>\n",
       "      <td>80</td>\n",
       "      <td>625</td>\n",
       "    </tr>\n",
       "    <tr>\n",
       "      <th>4</th>\n",
       "      <td>Charmander</td>\n",
       "      <td>NaN</td>\n",
       "      <td>FIRE</td>\n",
       "      <td>NaN</td>\n",
       "      <td>52</td>\n",
       "      <td>43</td>\n",
       "      <td>39</td>\n",
       "      <td>60</td>\n",
       "      <td>50</td>\n",
       "      <td>65</td>\n",
       "      <td>309</td>\n",
       "    </tr>\n",
       "    <tr>\n",
       "      <th>5</th>\n",
       "      <td>Charmeleon</td>\n",
       "      <td>NaN</td>\n",
       "      <td>FIRE</td>\n",
       "      <td>NaN</td>\n",
       "      <td>64</td>\n",
       "      <td>58</td>\n",
       "      <td>58</td>\n",
       "      <td>80</td>\n",
       "      <td>65</td>\n",
       "      <td>80</td>\n",
       "      <td>405</td>\n",
       "    </tr>\n",
       "    <tr>\n",
       "      <th>6</th>\n",
       "      <td>Charizard</td>\n",
       "      <td>NaN</td>\n",
       "      <td>FIRE</td>\n",
       "      <td>FLYING</td>\n",
       "      <td>84</td>\n",
       "      <td>78</td>\n",
       "      <td>78</td>\n",
       "      <td>109</td>\n",
       "      <td>85</td>\n",
       "      <td>100</td>\n",
       "      <td>534</td>\n",
       "    </tr>\n",
       "    <tr>\n",
       "      <th>7</th>\n",
       "      <td>Charizard</td>\n",
       "      <td>Mega Charizard X</td>\n",
       "      <td>FIRE</td>\n",
       "      <td>DRAGON</td>\n",
       "      <td>130</td>\n",
       "      <td>111</td>\n",
       "      <td>78</td>\n",
       "      <td>130</td>\n",
       "      <td>85</td>\n",
       "      <td>100</td>\n",
       "      <td>634</td>\n",
       "    </tr>\n",
       "    <tr>\n",
       "      <th>8</th>\n",
       "      <td>Charizard</td>\n",
       "      <td>Mega Charizard Y</td>\n",
       "      <td>FIRE</td>\n",
       "      <td>FLYING</td>\n",
       "      <td>104</td>\n",
       "      <td>78</td>\n",
       "      <td>78</td>\n",
       "      <td>159</td>\n",
       "      <td>115</td>\n",
       "      <td>100</td>\n",
       "      <td>634</td>\n",
       "    </tr>\n",
       "    <tr>\n",
       "      <th>9</th>\n",
       "      <td>Squirtle</td>\n",
       "      <td>NaN</td>\n",
       "      <td>WATER</td>\n",
       "      <td>NaN</td>\n",
       "      <td>48</td>\n",
       "      <td>65</td>\n",
       "      <td>44</td>\n",
       "      <td>50</td>\n",
       "      <td>64</td>\n",
       "      <td>43</td>\n",
       "      <td>314</td>\n",
       "    </tr>\n",
       "  </tbody>\n",
       "</table>\n",
       "</div>"
      ],
      "text/plain": [
       "         Name             Name2 Primary Type Secondary type  Attack  Defense  \\\n",
       "0   Bulbasaur               NaN        GRASS         POISON      49       49   \n",
       "1     Ivysaur               NaN        GRASS         POISON      62       63   \n",
       "2    Venusaur               NaN        GRASS         POISON      82       83   \n",
       "3    Venusaur     Mega Venusaur        GRASS         POISON     100      123   \n",
       "4  Charmander               NaN         FIRE            NaN      52       43   \n",
       "5  Charmeleon               NaN         FIRE            NaN      64       58   \n",
       "6   Charizard               NaN         FIRE         FLYING      84       78   \n",
       "7   Charizard  Mega Charizard X         FIRE         DRAGON     130      111   \n",
       "8   Charizard  Mega Charizard Y         FIRE         FLYING     104       78   \n",
       "9    Squirtle               NaN        WATER            NaN      48       65   \n",
       "\n",
       "   HP  Sp.Attack  Sp.Defense  Speed  Total  \n",
       "0  45         65          65     45    318  \n",
       "1  60         80          80     60    405  \n",
       "2  80        100         100     80    525  \n",
       "3  80        122         120     80    625  \n",
       "4  39         60          50     65    309  \n",
       "5  58         80          65     80    405  \n",
       "6  78        109          85    100    534  \n",
       "7  78        130          85    100    634  \n",
       "8  78        159         115    100    634  \n",
       "9  44         50          64     43    314  "
      ]
     },
     "execution_count": 36,
     "metadata": {},
     "output_type": "execute_result"
    }
   ],
   "source": [
    "df.head(10)"
   ]
  },
  {
   "cell_type": "markdown",
   "metadata": {},
   "source": [
    "### Ultimate `groupby` use"
   ]
  },
  {
   "cell_type": "code",
   "execution_count": 37,
   "metadata": {},
   "outputs": [
    {
     "name": "stdout",
     "output_type": "stream",
     "text": [
      "Bug Minimum(Primary): 180\n",
      "Fire Min(Sec): 275\n",
      "Water Mean(Pri): 431.73880597014926\n",
      "Lightening Count(Sec): 11\n"
     ]
    }
   ],
   "source": [
    "print(\"Bug Minimum(Primary):\",df.groupby(\"Primary Type\")[\"Total\"].min()[\"BUG\"])  #min bug total in Primary type\n",
    "print(\"Fire Min(Sec):\",df.groupby(\"Secondary type\")[\"Total\"].min()[\"FIRE\"])\n",
    "print(\"Water Mean(Pri):\",df.groupby(\"Primary Type\")[\"Total\"].mean()[\"WATER\"])\n",
    "print(\"Lightening Count(Sec):\",df.groupby(\"Secondary type\")[\"Total\"].count()[\"ELECTRIC\"])"
   ]
  },
  {
   "cell_type": "code",
   "execution_count": 38,
   "metadata": {},
   "outputs": [
    {
     "data": {
      "text/html": [
       "<div>\n",
       "<style scoped>\n",
       "    .dataframe tbody tr th:only-of-type {\n",
       "        vertical-align: middle;\n",
       "    }\n",
       "\n",
       "    .dataframe tbody tr th {\n",
       "        vertical-align: top;\n",
       "    }\n",
       "\n",
       "    .dataframe thead th {\n",
       "        text-align: right;\n",
       "    }\n",
       "</style>\n",
       "<table border=\"1\" class=\"dataframe\">\n",
       "  <thead>\n",
       "    <tr style=\"text-align: right;\">\n",
       "      <th></th>\n",
       "      <th>Name</th>\n",
       "      <th>Name2</th>\n",
       "      <th>Primary Type</th>\n",
       "      <th>Secondary type</th>\n",
       "      <th>Attack</th>\n",
       "      <th>Defense</th>\n",
       "      <th>HP</th>\n",
       "      <th>Sp.Attack</th>\n",
       "      <th>Sp.Defense</th>\n",
       "      <th>Speed</th>\n",
       "      <th>Total</th>\n",
       "    </tr>\n",
       "  </thead>\n",
       "  <tbody>\n",
       "    <tr>\n",
       "      <th>94</th>\n",
       "      <td>Geodude</td>\n",
       "      <td>Alolan Geodude</td>\n",
       "      <td>ROCK</td>\n",
       "      <td>ELECTRIC</td>\n",
       "      <td>80</td>\n",
       "      <td>100</td>\n",
       "      <td>40</td>\n",
       "      <td>30</td>\n",
       "      <td>30</td>\n",
       "      <td>20</td>\n",
       "      <td>300</td>\n",
       "    </tr>\n",
       "    <tr>\n",
       "      <th>96</th>\n",
       "      <td>Graveler</td>\n",
       "      <td>Alolan Graveler</td>\n",
       "      <td>ROCK</td>\n",
       "      <td>ELECTRIC</td>\n",
       "      <td>95</td>\n",
       "      <td>115</td>\n",
       "      <td>55</td>\n",
       "      <td>45</td>\n",
       "      <td>45</td>\n",
       "      <td>35</td>\n",
       "      <td>390</td>\n",
       "    </tr>\n",
       "    <tr>\n",
       "      <th>98</th>\n",
       "      <td>Golem</td>\n",
       "      <td>Alolan Golem</td>\n",
       "      <td>ROCK</td>\n",
       "      <td>ELECTRIC</td>\n",
       "      <td>120</td>\n",
       "      <td>130</td>\n",
       "      <td>80</td>\n",
       "      <td>55</td>\n",
       "      <td>65</td>\n",
       "      <td>45</td>\n",
       "      <td>495</td>\n",
       "    </tr>\n",
       "    <tr>\n",
       "      <th>215</th>\n",
       "      <td>Chinchou</td>\n",
       "      <td>NaN</td>\n",
       "      <td>WATER</td>\n",
       "      <td>ELECTRIC</td>\n",
       "      <td>38</td>\n",
       "      <td>38</td>\n",
       "      <td>75</td>\n",
       "      <td>56</td>\n",
       "      <td>56</td>\n",
       "      <td>67</td>\n",
       "      <td>330</td>\n",
       "    </tr>\n",
       "    <tr>\n",
       "      <th>216</th>\n",
       "      <td>Lanturn</td>\n",
       "      <td>NaN</td>\n",
       "      <td>WATER</td>\n",
       "      <td>ELECTRIC</td>\n",
       "      <td>58</td>\n",
       "      <td>58</td>\n",
       "      <td>125</td>\n",
       "      <td>76</td>\n",
       "      <td>76</td>\n",
       "      <td>67</td>\n",
       "      <td>460</td>\n",
       "    </tr>\n",
       "    <tr>\n",
       "      <th>699</th>\n",
       "      <td>Joltik</td>\n",
       "      <td>NaN</td>\n",
       "      <td>BUG</td>\n",
       "      <td>ELECTRIC</td>\n",
       "      <td>47</td>\n",
       "      <td>50</td>\n",
       "      <td>50</td>\n",
       "      <td>57</td>\n",
       "      <td>50</td>\n",
       "      <td>65</td>\n",
       "      <td>319</td>\n",
       "    </tr>\n",
       "    <tr>\n",
       "      <th>700</th>\n",
       "      <td>Galvantula</td>\n",
       "      <td>NaN</td>\n",
       "      <td>BUG</td>\n",
       "      <td>ELECTRIC</td>\n",
       "      <td>77</td>\n",
       "      <td>60</td>\n",
       "      <td>70</td>\n",
       "      <td>97</td>\n",
       "      <td>60</td>\n",
       "      <td>108</td>\n",
       "      <td>472</td>\n",
       "    </tr>\n",
       "    <tr>\n",
       "      <th>722</th>\n",
       "      <td>Stunfisk</td>\n",
       "      <td>NaN</td>\n",
       "      <td>GROUND</td>\n",
       "      <td>ELECTRIC</td>\n",
       "      <td>66</td>\n",
       "      <td>84</td>\n",
       "      <td>109</td>\n",
       "      <td>81</td>\n",
       "      <td>99</td>\n",
       "      <td>32</td>\n",
       "      <td>471</td>\n",
       "    </tr>\n",
       "    <tr>\n",
       "      <th>751</th>\n",
       "      <td>Zekrom</td>\n",
       "      <td>NaN</td>\n",
       "      <td>DRAGON</td>\n",
       "      <td>ELECTRIC</td>\n",
       "      <td>150</td>\n",
       "      <td>120</td>\n",
       "      <td>100</td>\n",
       "      <td>120</td>\n",
       "      <td>100</td>\n",
       "      <td>90</td>\n",
       "      <td>680</td>\n",
       "    </tr>\n",
       "    <tr>\n",
       "      <th>862</th>\n",
       "      <td>Charjabug</td>\n",
       "      <td>NaN</td>\n",
       "      <td>BUG</td>\n",
       "      <td>ELECTRIC</td>\n",
       "      <td>82</td>\n",
       "      <td>95</td>\n",
       "      <td>57</td>\n",
       "      <td>55</td>\n",
       "      <td>75</td>\n",
       "      <td>36</td>\n",
       "      <td>400</td>\n",
       "    </tr>\n",
       "    <tr>\n",
       "      <th>863</th>\n",
       "      <td>Vikavolt</td>\n",
       "      <td>NaN</td>\n",
       "      <td>BUG</td>\n",
       "      <td>ELECTRIC</td>\n",
       "      <td>70</td>\n",
       "      <td>90</td>\n",
       "      <td>77</td>\n",
       "      <td>145</td>\n",
       "      <td>75</td>\n",
       "      <td>43</td>\n",
       "      <td>500</td>\n",
       "    </tr>\n",
       "  </tbody>\n",
       "</table>\n",
       "</div>"
      ],
      "text/plain": [
       "           Name            Name2 Primary Type Secondary type  Attack  Defense  \\\n",
       "94      Geodude   Alolan Geodude         ROCK       ELECTRIC      80      100   \n",
       "96     Graveler  Alolan Graveler         ROCK       ELECTRIC      95      115   \n",
       "98        Golem     Alolan Golem         ROCK       ELECTRIC     120      130   \n",
       "215    Chinchou              NaN        WATER       ELECTRIC      38       38   \n",
       "216     Lanturn              NaN        WATER       ELECTRIC      58       58   \n",
       "699      Joltik              NaN          BUG       ELECTRIC      47       50   \n",
       "700  Galvantula              NaN          BUG       ELECTRIC      77       60   \n",
       "722    Stunfisk              NaN       GROUND       ELECTRIC      66       84   \n",
       "751      Zekrom              NaN       DRAGON       ELECTRIC     150      120   \n",
       "862   Charjabug              NaN          BUG       ELECTRIC      82       95   \n",
       "863    Vikavolt              NaN          BUG       ELECTRIC      70       90   \n",
       "\n",
       "      HP  Sp.Attack  Sp.Defense  Speed  Total  \n",
       "94    40         30          30     20    300  \n",
       "96    55         45          45     35    390  \n",
       "98    80         55          65     45    495  \n",
       "215   75         56          56     67    330  \n",
       "216  125         76          76     67    460  \n",
       "699   50         57          50     65    319  \n",
       "700   70         97          60    108    472  \n",
       "722  109         81          99     32    471  \n",
       "751  100        120         100     90    680  \n",
       "862   57         55          75     36    400  \n",
       "863   77        145          75     43    500  "
      ]
     },
     "execution_count": 38,
     "metadata": {},
     "output_type": "execute_result"
    }
   ],
   "source": [
    "df[df['Secondary type']=='ELECTRIC']   #you can verify the the group by count method"
   ]
  },
  {
   "cell_type": "markdown",
   "metadata": {},
   "source": [
    "Check ``groupby`` method of Primary and Seconday Type `Pokemon` and ``Plot a Bar``Graph"
   ]
  },
  {
   "cell_type": "code",
   "execution_count": 39,
   "metadata": {},
   "outputs": [
    {
     "data": {
      "text/plain": [
       "<AxesSubplot:title={'center':'Secondary Type'}, ylabel='Secondary type'>"
      ]
     },
     "execution_count": 39,
     "metadata": {},
     "output_type": "execute_result"
    },
    {
     "data": {
      "image/png": "[encoded data removed]",
      "text/plain": [
       "<Figure size 720x720 with 1 Axes>"
      ]
     },
     "metadata": {
      "needs_background": "light"
     },
     "output_type": "display_data"
    }
   ],
   "source": [
    "df.groupby(\"Secondary type\")[\"Total\"].agg([\"count\",\"mean\",\"min\",\"max\"]).plot(kind=\"barh\",figsize=(10,10),title=\"Secondary Type\")"
   ]
  },
  {
   "cell_type": "code",
   "execution_count": 40,
   "metadata": {},
   "outputs": [
    {
     "data": {
      "text/plain": [
       "<AxesSubplot:title={'center':'Primary Type'}, ylabel='Primary Type'>"
      ]
     },
     "execution_count": 40,
     "metadata": {},
     "output_type": "execute_result"
    },
    {
     "data": {
      "image/png": "[encoded data removed]",
      "text/plain": [
       "<Figure size 720x720 with 1 Axes>"
      ]
     },
     "metadata": {
      "needs_background": "light"
     },
     "output_type": "display_data"
    }
   ],
   "source": [
    "df.groupby('Primary Type')['Total'].agg(['count','mean','min','max']).plot(kind=\"barh\",figsize=(10,10),title=\"Primary Type\",grid=True)"
   ]
  },
  {
   "cell_type": "code",
   "execution_count": 41,
   "metadata": {},
   "outputs": [
    {
     "data": {
      "text/plain": [
       "<AxesSubplot:title={'center':'Primary Type Pokemon Attack Analysis'}, xlabel='Primary Type'>"
      ]
     },
     "execution_count": 41,
     "metadata": {},
     "output_type": "execute_result"
    },
    {
     "data": {
      "image/png": "[encoded data removed]",
      "text/plain": [
       "<Figure size 1080x720 with 1 Axes>"
      ]
     },
     "metadata": {
      "needs_background": "light"
     },
     "output_type": "display_data"
    }
   ],
   "source": [
    "df.groupby('Primary Type')['Attack'].agg(['count','min','max','mean']).plot(kind=\"bar\",stacked=True,figsize=(15,10),title=\"Primary Type Pokemon Attack Analysis\")"
   ]
  },
  {
   "cell_type": "markdown",
   "metadata": {},
   "source": [
    "### `Water Pokemon Visualization`"
   ]
  },
  {
   "cell_type": "markdown",
   "metadata": {},
   "source": [
    "#### Let us individually visualize few `Primary Type Pokemons`"
   ]
  },
  {
   "cell_type": "code",
   "execution_count": 42,
   "metadata": {},
   "outputs": [],
   "source": [
    "water_pokemons = df[df['Primary Type']=='WATER']"
   ]
  },
  {
   "cell_type": "code",
   "execution_count": 43,
   "metadata": {},
   "outputs": [
    {
     "data": {
      "text/plain": [
       "(134, 11)"
      ]
     },
     "execution_count": 43,
     "metadata": {},
     "output_type": "execute_result"
    }
   ],
   "source": [
    "water_pokemons.shape"
   ]
  },
  {
   "cell_type": "markdown",
   "metadata": {},
   "source": [
    "Check the `Pokemon` with the highest Total among the ``Water Pokemon``"
   ]
  },
  {
   "cell_type": "code",
   "execution_count": 44,
   "metadata": {},
   "outputs": [
    {
     "data": {
      "text/html": [
       "<div>\n",
       "<style scoped>\n",
       "    .dataframe tbody tr th:only-of-type {\n",
       "        vertical-align: middle;\n",
       "    }\n",
       "\n",
       "    .dataframe tbody tr th {\n",
       "        vertical-align: top;\n",
       "    }\n",
       "\n",
       "    .dataframe thead th {\n",
       "        text-align: right;\n",
       "    }\n",
       "</style>\n",
       "<table border=\"1\" class=\"dataframe\">\n",
       "  <thead>\n",
       "    <tr style=\"text-align: right;\">\n",
       "      <th></th>\n",
       "      <th>Name</th>\n",
       "      <th>Name2</th>\n",
       "      <th>Primary Type</th>\n",
       "      <th>Secondary type</th>\n",
       "      <th>Attack</th>\n",
       "      <th>Defense</th>\n",
       "      <th>HP</th>\n",
       "      <th>Sp.Attack</th>\n",
       "      <th>Sp.Defense</th>\n",
       "      <th>Speed</th>\n",
       "      <th>Total</th>\n",
       "    </tr>\n",
       "  </thead>\n",
       "  <tbody>\n",
       "    <tr>\n",
       "      <th>460</th>\n",
       "      <td>Kyogre</td>\n",
       "      <td>Primal Kyogre</td>\n",
       "      <td>WATER</td>\n",
       "      <td>NaN</td>\n",
       "      <td>150</td>\n",
       "      <td>90</td>\n",
       "      <td>100</td>\n",
       "      <td>180</td>\n",
       "      <td>160</td>\n",
       "      <td>90</td>\n",
       "      <td>770</td>\n",
       "    </tr>\n",
       "  </tbody>\n",
       "</table>\n",
       "</div>"
      ],
      "text/plain": [
       "       Name          Name2 Primary Type Secondary type  Attack  Defense   HP  \\\n",
       "460  Kyogre  Primal Kyogre        WATER            NaN     150       90  100   \n",
       "\n",
       "     Sp.Attack  Sp.Defense  Speed  Total  \n",
       "460        180         160     90    770  "
      ]
     },
     "execution_count": 44,
     "metadata": {},
     "output_type": "execute_result"
    }
   ],
   "source": [
    "water_pokemons[water_pokemons[\"Total\"]==water_pokemons[\"Total\"].max()]"
   ]
  },
  {
   "cell_type": "code",
   "execution_count": 45,
   "metadata": {},
   "outputs": [],
   "source": [
    "water_pokemons_names = df[(df['Primary Type']==\"WATER\") & (df['Total']>500)] [\"Name\"]\n",
    "water_strength = df[(df['Primary Type']==\"WATER\") & (df['Total']>500)].Total"
   ]
  },
  {
   "cell_type": "code",
   "execution_count": 46,
   "metadata": {},
   "outputs": [
    {
     "data": {
      "text/plain": [
       "Text(0, 0.5, 'Total')"
      ]
     },
     "execution_count": 46,
     "metadata": {},
     "output_type": "execute_result"
    },
    {
     "data": {
      "image/png": "[encoded data removed]",
      "text/plain": [
       "<Figure size 1440x720 with 1 Axes>"
      ]
     },
     "metadata": {
      "needs_background": "light"
     },
     "output_type": "display_data"
    }
   ],
   "source": [
    "plt.figure(figsize=(20,10))\n",
    "plt.title(\"Water Pokemon Overall Strength Above 500\",fontsize=24)\n",
    "plt.bar(water_pokemons_names,water_strength)\n",
    "plt.xticks(rotation=90)\n",
    "plt.xlabel(\"Name\",fontsize=18)\n",
    "plt.ylabel(\"Total\",fontsize=18)"
   ]
  },
  {
   "cell_type": "code",
   "execution_count": null,
   "metadata": {},
   "outputs": [],
   "source": []
  },
  {
   "cell_type": "code",
   "execution_count": 47,
   "metadata": {},
   "outputs": [
    {
     "data": {
      "text/plain": [
       "Text(0, 0.5, 'Fire Pokemons')"
      ]
     },
     "execution_count": 47,
     "metadata": {},
     "output_type": "execute_result"
    },
    {
     "data": {
      "image/png": "[encoded data removed]",
      "text/plain": [
       "<Figure size 432x288 with 1 Axes>"
      ]
     },
     "metadata": {
      "needs_background": "light"
     },
     "output_type": "display_data"
    }
   ],
   "source": [
    "plt.scatter(df[df[\"Primary Type\"]==\"WATER\"][\"Speed\"].iloc[0:65],df[df[\"Primary Type\"]==\"FIRE\"][\"Speed\"])\n",
    "plt.xlabel(\"Water Pokemons\")\n",
    "plt.ylabel(\"Fire Pokemons\")"
   ]
  },
  {
   "cell_type": "code",
   "execution_count": 48,
   "metadata": {},
   "outputs": [
    {
     "data": {
      "text/plain": [
       "([<matplotlib.patches.Wedge at 0x7fe8fb8834c0>,\n",
       "  <matplotlib.patches.Wedge at 0x7fe8fb883bb0>,\n",
       "  <matplotlib.patches.Wedge at 0x7fe8fb892280>,\n",
       "  <matplotlib.patches.Wedge at 0x7fe8fb892910>,\n",
       "  <matplotlib.patches.Wedge at 0x7fe8fb892fa0>,\n",
       "  <matplotlib.patches.Wedge at 0x7fe8fb8a0670>,\n",
       "  <matplotlib.patches.Wedge at 0x7fe8fb8a0d00>,\n",
       "  <matplotlib.patches.Wedge at 0x7fe8fb82d3d0>,\n",
       "  <matplotlib.patches.Wedge at 0x7fe8fb82da60>,\n",
       "  <matplotlib.patches.Wedge at 0x7fe8fb83c130>],\n",
       " [Text(1.0472594673823652, 0.33652281940160444, 'Starmie'),\n",
       "  Text(0.6788408649030252, 0.8655490050469198, 'Sharpedo'),\n",
       "  Text(0.07725951604503745, 1.0972834488774934, 'Floatzel'),\n",
       "  Text(-0.5405295304151658, 0.9580333119203948, 'Simipour'),\n",
       "  Text(-0.9694993821421932, 0.5196835075561911, 'Keldeo'),\n",
       "  Text(-1.0953558930304859, -0.10097260818354195, 'Keldeo'),\n",
       "  Text(-0.8315015648749688, -0.7201424495268128, 'Greninja'),\n",
       "  Text(-0.1864554588651674, -1.0840822671086268, 'Greninja'),\n",
       "  Text(0.5379373617831071, -0.9594912166340194, 'Inteleon'),\n",
       "  Text(1.026475914168127, -0.39540763476785323, 'Barraskewda')],\n",
       " [Text(0.5712324367540174, 0.18355790149178422, '9.897%'),\n",
       "  Text(0.3702768354016501, 0.4721176391165016, '9.036%'),\n",
       "  Text(0.04214155420638405, 0.5985182448422691, '9.897%'),\n",
       "  Text(-0.2948342893173631, 0.5225636246838516, '8.692%'),\n",
       "  Text(-0.5288178448048326, 0.28346373139428604, '9.294%'),\n",
       "  Text(-0.5974668507439013, -0.05507596810011379, '9.294%'),\n",
       "  Text(-0.4535463081136193, -0.39280497246917057, '10.499%'),\n",
       "  Text(-0.10170297756281858, -0.591317600241069, '11.360%'),\n",
       "  Text(0.29342037915442204, -0.5233588454367377, '10.327%'),\n",
       "  Text(0.5598959531826146, -0.2156768916915563, '11.704%')])"
      ]
     },
     "execution_count": 48,
     "metadata": {},
     "output_type": "execute_result"
    },
    {
     "data": {
      "image/png": "[encoded data removed]",
      "text/plain": [
       "<Figure size 576x360 with 1 Axes>"
      ]
     },
     "metadata": {},
     "output_type": "display_data"
    }
   ],
   "source": [
    "plt.figure(figsize=(8,5))\n",
    "plt.pie(water_pokemons[water_pokemons['Speed']>100][\"Speed\"],labels=water_pokemons[water_pokemons[\"Speed\"]>100][\"Name\"],autopct='%1.3f%%')"
   ]
  },
  {
   "cell_type": "code",
   "execution_count": 82,
   "metadata": {},
   "outputs": [
    {
     "data": {
      "text/plain": [
       "Text(0, 0.5, 'Count Range')"
      ]
     },
     "execution_count": 82,
     "metadata": {},
     "output_type": "execute_result"
    },
    {
     "data": {
      "image/png": "[encoded data removed]",
      "text/plain": [
       "<Figure size 432x288 with 1 Axes>"
      ]
     },
     "metadata": {
      "needs_background": "light"
     },
     "output_type": "display_data"
    }
   ],
   "source": [
    "plt.hist(water_pokemons['HP'],bins=15)\n",
    "plt.xlabel(\"HP\")\n",
    "plt.ylabel(\"Count Range\")"
   ]
  },
  {
   "cell_type": "code",
   "execution_count": 85,
   "metadata": {},
   "outputs": [
    {
     "data": {
      "text/plain": [
       "70.0"
      ]
     },
     "execution_count": 85,
     "metadata": {},
     "output_type": "execute_result"
    }
   ],
   "source": [
    "water_pokemons['HP'].median()"
   ]
  },
  {
   "cell_type": "code",
   "execution_count": 79,
   "metadata": {},
   "outputs": [],
   "source": [
    "plt.hist?"
   ]
  },
  {
   "cell_type": "markdown",
   "metadata": {},
   "source": [
    "### `Fire Pokemon Visualization`"
   ]
  },
  {
   "cell_type": "code",
   "execution_count": 50,
   "metadata": {},
   "outputs": [],
   "source": [
    "fire_pokemons = df[df['Primary Type']==\"FIRE\"]"
   ]
  },
  {
   "cell_type": "code",
   "execution_count": 51,
   "metadata": {},
   "outputs": [
    {
     "data": {
      "text/html": [
       "<div>\n",
       "<style scoped>\n",
       "    .dataframe tbody tr th:only-of-type {\n",
       "        vertical-align: middle;\n",
       "    }\n",
       "\n",
       "    .dataframe tbody tr th {\n",
       "        vertical-align: top;\n",
       "    }\n",
       "\n",
       "    .dataframe thead th {\n",
       "        text-align: right;\n",
       "    }\n",
       "</style>\n",
       "<table border=\"1\" class=\"dataframe\">\n",
       "  <thead>\n",
       "    <tr style=\"text-align: right;\">\n",
       "      <th></th>\n",
       "      <th>Name</th>\n",
       "      <th>Name2</th>\n",
       "      <th>Primary Type</th>\n",
       "      <th>Secondary type</th>\n",
       "      <th>Attack</th>\n",
       "      <th>Defense</th>\n",
       "      <th>HP</th>\n",
       "      <th>Sp.Attack</th>\n",
       "      <th>Sp.Defense</th>\n",
       "      <th>Speed</th>\n",
       "      <th>Total</th>\n",
       "    </tr>\n",
       "  </thead>\n",
       "  <tbody>\n",
       "    <tr>\n",
       "      <th>4</th>\n",
       "      <td>Charmander</td>\n",
       "      <td>NaN</td>\n",
       "      <td>FIRE</td>\n",
       "      <td>NaN</td>\n",
       "      <td>52</td>\n",
       "      <td>43</td>\n",
       "      <td>39</td>\n",
       "      <td>60</td>\n",
       "      <td>50</td>\n",
       "      <td>65</td>\n",
       "      <td>309</td>\n",
       "    </tr>\n",
       "    <tr>\n",
       "      <th>5</th>\n",
       "      <td>Charmeleon</td>\n",
       "      <td>NaN</td>\n",
       "      <td>FIRE</td>\n",
       "      <td>NaN</td>\n",
       "      <td>64</td>\n",
       "      <td>58</td>\n",
       "      <td>58</td>\n",
       "      <td>80</td>\n",
       "      <td>65</td>\n",
       "      <td>80</td>\n",
       "      <td>405</td>\n",
       "    </tr>\n",
       "    <tr>\n",
       "      <th>6</th>\n",
       "      <td>Charizard</td>\n",
       "      <td>NaN</td>\n",
       "      <td>FIRE</td>\n",
       "      <td>FLYING</td>\n",
       "      <td>84</td>\n",
       "      <td>78</td>\n",
       "      <td>78</td>\n",
       "      <td>109</td>\n",
       "      <td>85</td>\n",
       "      <td>100</td>\n",
       "      <td>534</td>\n",
       "    </tr>\n",
       "    <tr>\n",
       "      <th>7</th>\n",
       "      <td>Charizard</td>\n",
       "      <td>Mega Charizard X</td>\n",
       "      <td>FIRE</td>\n",
       "      <td>DRAGON</td>\n",
       "      <td>130</td>\n",
       "      <td>111</td>\n",
       "      <td>78</td>\n",
       "      <td>130</td>\n",
       "      <td>85</td>\n",
       "      <td>100</td>\n",
       "      <td>634</td>\n",
       "    </tr>\n",
       "    <tr>\n",
       "      <th>8</th>\n",
       "      <td>Charizard</td>\n",
       "      <td>Mega Charizard Y</td>\n",
       "      <td>FIRE</td>\n",
       "      <td>FLYING</td>\n",
       "      <td>104</td>\n",
       "      <td>78</td>\n",
       "      <td>78</td>\n",
       "      <td>159</td>\n",
       "      <td>115</td>\n",
       "      <td>100</td>\n",
       "      <td>634</td>\n",
       "    </tr>\n",
       "  </tbody>\n",
       "</table>\n",
       "</div>"
      ],
      "text/plain": [
       "         Name             Name2 Primary Type Secondary type  Attack  Defense  \\\n",
       "4  Charmander               NaN         FIRE            NaN      52       43   \n",
       "5  Charmeleon               NaN         FIRE            NaN      64       58   \n",
       "6   Charizard               NaN         FIRE         FLYING      84       78   \n",
       "7   Charizard  Mega Charizard X         FIRE         DRAGON     130      111   \n",
       "8   Charizard  Mega Charizard Y         FIRE         FLYING     104       78   \n",
       "\n",
       "   HP  Sp.Attack  Sp.Defense  Speed  Total  \n",
       "4  39         60          50     65    309  \n",
       "5  58         80          65     80    405  \n",
       "6  78        109          85    100    534  \n",
       "7  78        130          85    100    634  \n",
       "8  78        159         115    100    634  "
      ]
     },
     "execution_count": 51,
     "metadata": {},
     "output_type": "execute_result"
    }
   ],
   "source": [
    "fire_pokemons.head()"
   ]
  },
  {
   "cell_type": "code",
   "execution_count": 52,
   "metadata": {},
   "outputs": [
    {
     "name": "stdout",
     "output_type": "stream",
     "text": [
      "(134,)\n",
      "(65,)\n"
     ]
    }
   ],
   "source": [
    "print(water_pokemons['Speed'].shape)\n",
    "print(fire_pokemons['Speed'].shape)"
   ]
  },
  {
   "cell_type": "code",
   "execution_count": 53,
   "metadata": {},
   "outputs": [
    {
     "data": {
      "text/plain": [
       "Name               0\n",
       "Name2             56\n",
       "Primary Type       0\n",
       "Secondary type    34\n",
       "Attack             0\n",
       "Defense            0\n",
       "HP                 0\n",
       "Sp.Attack          0\n",
       "Sp.Defense         0\n",
       "Speed              0\n",
       "Total              0\n",
       "dtype: int64"
      ]
     },
     "execution_count": 53,
     "metadata": {},
     "output_type": "execute_result"
    }
   ],
   "source": [
    "fire_pokemons.isnull().sum()"
   ]
  },
  {
   "cell_type": "markdown",
   "metadata": {},
   "source": [
    "#### Check Out the Speed Relationship between `Water and Fire Pokemon` "
   ]
  },
  {
   "cell_type": "code",
   "execution_count": 54,
   "metadata": {},
   "outputs": [],
   "source": [
    "fastest_fire_poke = fire_pokemons['Speed'].sort_values()[::-1].iloc[0:15]"
   ]
  },
  {
   "cell_type": "code",
   "execution_count": 55,
   "metadata": {},
   "outputs": [
    {
     "data": {
      "text/plain": [
       "776    126\n",
       "951    119\n",
       "475    108\n",
       "942    107\n",
       "781    106\n",
       "101    105\n",
       "767    104\n",
       "611    101\n",
       "296    100\n",
       "312    100\n",
       "202    100\n",
       "6      100\n",
       "50     100\n",
       "8      100\n",
       "7      100\n",
       "Name: Speed, dtype: int64"
      ]
     },
     "execution_count": 55,
     "metadata": {},
     "output_type": "execute_result"
    }
   ],
   "source": [
    "fastest_water_poke = water_pokemons['Speed'].sort_values()[::-1].iloc[0:15]\n",
    "fastest_fire_poke"
   ]
  },
  {
   "cell_type": "code",
   "execution_count": 56,
   "metadata": {},
   "outputs": [
    {
     "data": {
      "text/plain": [
       "Text(0, 0.5, 'Top 15 Fastest Fire Pokemons Speed')"
      ]
     },
     "execution_count": 56,
     "metadata": {},
     "output_type": "execute_result"
    },
    {
     "data": {
      "image/png": "[encoded data removed]",
      "text/plain": [
       "<Figure size 1080x576 with 1 Axes>"
      ]
     },
     "metadata": {
      "needs_background": "light"
     },
     "output_type": "display_data"
    }
   ],
   "source": [
    "plt.figure(figsize=(15,8))\n",
    "plt.scatter(fastest_water_poke,fastest_fire_poke)\n",
    "plt.title(\"Water-Fire Pokemon: Top 15 Pokemon Speed Relationship\",fontsize=18)\n",
    "plt.xlabel(\"Top 15 Fastest Water Pokemons Speed\",fontsize=14)\n",
    "plt.ylabel(\"Top 15 Fastest Fire Pokemons Speed\",fontsize=14)"
   ]
  },
  {
   "cell_type": "markdown",
   "metadata": {},
   "source": [
    "### `Lightening Pokemon Visualization`"
   ]
  },
  {
   "cell_type": "markdown",
   "metadata": {},
   "source": [
    "As we know our favourite `Pikachu` belongs to Electric/Lightening, lets extract a single player data"
   ]
  },
  {
   "cell_type": "code",
   "execution_count": 57,
   "metadata": {},
   "outputs": [],
   "source": [
    "pika = df[df['Name']==\"Pikachu\"]\n",
    "pika.set_index(\"Name\",inplace=True)"
   ]
  },
  {
   "cell_type": "markdown",
   "metadata": {},
   "source": [
    "### Analysis Pikachu"
   ]
  },
  {
   "cell_type": "code",
   "execution_count": 58,
   "metadata": {},
   "outputs": [
    {
     "data": {
      "text/plain": [
       "Name\n",
       "Pikachu    320\n",
       "Pikachu    430\n",
       "Name: Total, dtype: int64"
      ]
     },
     "execution_count": 58,
     "metadata": {},
     "output_type": "execute_result"
    }
   ],
   "source": [
    "pika[\"Total\"]"
   ]
  },
  {
   "cell_type": "code",
   "execution_count": 59,
   "metadata": {},
   "outputs": [
    {
     "data": {
      "text/plain": [
       "Text(0, 0.5, 'Strength')"
      ]
     },
     "execution_count": 59,
     "metadata": {},
     "output_type": "execute_result"
    },
    {
     "data": {
      "image/png": "[encoded data removed]",
      "text/plain": [
       "<Figure size 432x288 with 1 Axes>"
      ]
     },
     "metadata": {
      "needs_background": "light"
     },
     "output_type": "display_data"
    }
   ],
   "source": [
    "ax = pika.loc[:,[\"Attack\",\"Defense\",\"HP\",\"Speed\"]].plot(kind=\"bar\")\n",
    "ax.set_title(\"Pikachu Power Break-down\",fontsize=20)\n",
    "ax.set_xlabel(\"Pikachu name\")\n",
    "ax.set_ylabel(\"Strength\")"
   ]
  },
  {
   "cell_type": "code",
   "execution_count": null,
   "metadata": {},
   "outputs": [],
   "source": []
  },
  {
   "cell_type": "markdown",
   "metadata": {},
   "source": [
    "### `Grass Pokemon Visualization`"
   ]
  },
  {
   "cell_type": "markdown",
   "metadata": {},
   "source": [
    "#### `Practice: by seeing above analysis, I hope you can try this. Gunbate.`"
   ]
  },
  {
   "cell_type": "code",
   "execution_count": 60,
   "metadata": {},
   "outputs": [
    {
     "data": {
      "text/html": [
       "<div>\n",
       "<style scoped>\n",
       "    .dataframe tbody tr th:only-of-type {\n",
       "        vertical-align: middle;\n",
       "    }\n",
       "\n",
       "    .dataframe tbody tr th {\n",
       "        vertical-align: top;\n",
       "    }\n",
       "\n",
       "    .dataframe thead th {\n",
       "        text-align: right;\n",
       "    }\n",
       "</style>\n",
       "<table border=\"1\" class=\"dataframe\">\n",
       "  <thead>\n",
       "    <tr style=\"text-align: right;\">\n",
       "      <th></th>\n",
       "      <th>Name</th>\n",
       "      <th>Name2</th>\n",
       "      <th>Primary Type</th>\n",
       "      <th>Secondary type</th>\n",
       "      <th>Attack</th>\n",
       "      <th>Defense</th>\n",
       "      <th>HP</th>\n",
       "      <th>Sp.Attack</th>\n",
       "      <th>Sp.Defense</th>\n",
       "      <th>Speed</th>\n",
       "      <th>Total</th>\n",
       "    </tr>\n",
       "  </thead>\n",
       "  <tbody>\n",
       "    <tr>\n",
       "      <th>0</th>\n",
       "      <td>Bulbasaur</td>\n",
       "      <td>NaN</td>\n",
       "      <td>GRASS</td>\n",
       "      <td>POISON</td>\n",
       "      <td>49</td>\n",
       "      <td>49</td>\n",
       "      <td>45</td>\n",
       "      <td>65</td>\n",
       "      <td>65</td>\n",
       "      <td>45</td>\n",
       "      <td>318</td>\n",
       "    </tr>\n",
       "    <tr>\n",
       "      <th>1</th>\n",
       "      <td>Ivysaur</td>\n",
       "      <td>NaN</td>\n",
       "      <td>GRASS</td>\n",
       "      <td>POISON</td>\n",
       "      <td>62</td>\n",
       "      <td>63</td>\n",
       "      <td>60</td>\n",
       "      <td>80</td>\n",
       "      <td>80</td>\n",
       "      <td>60</td>\n",
       "      <td>405</td>\n",
       "    </tr>\n",
       "    <tr>\n",
       "      <th>2</th>\n",
       "      <td>Venusaur</td>\n",
       "      <td>NaN</td>\n",
       "      <td>GRASS</td>\n",
       "      <td>POISON</td>\n",
       "      <td>82</td>\n",
       "      <td>83</td>\n",
       "      <td>80</td>\n",
       "      <td>100</td>\n",
       "      <td>100</td>\n",
       "      <td>80</td>\n",
       "      <td>525</td>\n",
       "    </tr>\n",
       "    <tr>\n",
       "      <th>3</th>\n",
       "      <td>Venusaur</td>\n",
       "      <td>Mega Venusaur</td>\n",
       "      <td>GRASS</td>\n",
       "      <td>POISON</td>\n",
       "      <td>100</td>\n",
       "      <td>123</td>\n",
       "      <td>80</td>\n",
       "      <td>122</td>\n",
       "      <td>120</td>\n",
       "      <td>80</td>\n",
       "      <td>625</td>\n",
       "    </tr>\n",
       "    <tr>\n",
       "      <th>56</th>\n",
       "      <td>Oddish</td>\n",
       "      <td>NaN</td>\n",
       "      <td>GRASS</td>\n",
       "      <td>POISON</td>\n",
       "      <td>50</td>\n",
       "      <td>55</td>\n",
       "      <td>45</td>\n",
       "      <td>75</td>\n",
       "      <td>65</td>\n",
       "      <td>30</td>\n",
       "      <td>320</td>\n",
       "    </tr>\n",
       "  </tbody>\n",
       "</table>\n",
       "</div>"
      ],
      "text/plain": [
       "         Name          Name2 Primary Type Secondary type  Attack  Defense  HP  \\\n",
       "0   Bulbasaur            NaN        GRASS         POISON      49       49  45   \n",
       "1     Ivysaur            NaN        GRASS         POISON      62       63  60   \n",
       "2    Venusaur            NaN        GRASS         POISON      82       83  80   \n",
       "3    Venusaur  Mega Venusaur        GRASS         POISON     100      123  80   \n",
       "56     Oddish            NaN        GRASS         POISON      50       55  45   \n",
       "\n",
       "    Sp.Attack  Sp.Defense  Speed  Total  \n",
       "0          65          65     45    318  \n",
       "1          80          80     60    405  \n",
       "2         100         100     80    525  \n",
       "3         122         120     80    625  \n",
       "56         75          65     30    320  "
      ]
     },
     "execution_count": 60,
     "metadata": {},
     "output_type": "execute_result"
    }
   ],
   "source": [
    "grass_pokemon = df[df['Primary Type'] == 'GRASS']\n",
    "grass_pokemon.head()"
   ]
  },
  {
   "cell_type": "code",
   "execution_count": 61,
   "metadata": {},
   "outputs": [],
   "source": [
    "#your code from here"
   ]
  },
  {
   "cell_type": "code",
   "execution_count": 62,
   "metadata": {},
   "outputs": [],
   "source": [
    "plt.xticks?"
   ]
  },
  {
   "cell_type": "markdown",
   "metadata": {},
   "source": [
    "### `Flying Pokemon Visualization`"
   ]
  },
  {
   "cell_type": "markdown",
   "metadata": {},
   "source": [
    "#### `Practice: by seeing above analysis, I hope you can try this. Gunbate.`"
   ]
  },
  {
   "cell_type": "code",
   "execution_count": 63,
   "metadata": {},
   "outputs": [
    {
     "data": {
      "text/html": [
       "<div>\n",
       "<style scoped>\n",
       "    .dataframe tbody tr th:only-of-type {\n",
       "        vertical-align: middle;\n",
       "    }\n",
       "\n",
       "    .dataframe tbody tr th {\n",
       "        vertical-align: top;\n",
       "    }\n",
       "\n",
       "    .dataframe thead th {\n",
       "        text-align: right;\n",
       "    }\n",
       "</style>\n",
       "<table border=\"1\" class=\"dataframe\">\n",
       "  <thead>\n",
       "    <tr style=\"text-align: right;\">\n",
       "      <th></th>\n",
       "      <th>Name</th>\n",
       "      <th>Name2</th>\n",
       "      <th>Primary Type</th>\n",
       "      <th>Secondary type</th>\n",
       "      <th>Attack</th>\n",
       "      <th>Defense</th>\n",
       "      <th>HP</th>\n",
       "      <th>Sp.Attack</th>\n",
       "      <th>Sp.Defense</th>\n",
       "      <th>Speed</th>\n",
       "      <th>Total</th>\n",
       "    </tr>\n",
       "  </thead>\n",
       "  <tbody>\n",
       "    <tr>\n",
       "      <th>746</th>\n",
       "      <td>Tornadus</td>\n",
       "      <td>Incarnate Forme</td>\n",
       "      <td>FLYING</td>\n",
       "      <td>NaN</td>\n",
       "      <td>115</td>\n",
       "      <td>70</td>\n",
       "      <td>79</td>\n",
       "      <td>125</td>\n",
       "      <td>80</td>\n",
       "      <td>111</td>\n",
       "      <td>580</td>\n",
       "    </tr>\n",
       "    <tr>\n",
       "      <th>747</th>\n",
       "      <td>Tornadus</td>\n",
       "      <td>Therian Forme</td>\n",
       "      <td>FLYING</td>\n",
       "      <td>NaN</td>\n",
       "      <td>100</td>\n",
       "      <td>80</td>\n",
       "      <td>79</td>\n",
       "      <td>110</td>\n",
       "      <td>90</td>\n",
       "      <td>121</td>\n",
       "      <td>580</td>\n",
       "    </tr>\n",
       "    <tr>\n",
       "      <th>835</th>\n",
       "      <td>Noibat</td>\n",
       "      <td>NaN</td>\n",
       "      <td>FLYING</td>\n",
       "      <td>DRAGON</td>\n",
       "      <td>30</td>\n",
       "      <td>35</td>\n",
       "      <td>40</td>\n",
       "      <td>45</td>\n",
       "      <td>40</td>\n",
       "      <td>55</td>\n",
       "      <td>245</td>\n",
       "    </tr>\n",
       "    <tr>\n",
       "      <th>836</th>\n",
       "      <td>Noivern</td>\n",
       "      <td>NaN</td>\n",
       "      <td>FLYING</td>\n",
       "      <td>DRAGON</td>\n",
       "      <td>70</td>\n",
       "      <td>80</td>\n",
       "      <td>85</td>\n",
       "      <td>97</td>\n",
       "      <td>80</td>\n",
       "      <td>123</td>\n",
       "      <td>535</td>\n",
       "    </tr>\n",
       "    <tr>\n",
       "      <th>957</th>\n",
       "      <td>Rookidee</td>\n",
       "      <td>NaN</td>\n",
       "      <td>FLYING</td>\n",
       "      <td>NaN</td>\n",
       "      <td>47</td>\n",
       "      <td>35</td>\n",
       "      <td>38</td>\n",
       "      <td>33</td>\n",
       "      <td>35</td>\n",
       "      <td>57</td>\n",
       "      <td>245</td>\n",
       "    </tr>\n",
       "  </tbody>\n",
       "</table>\n",
       "</div>"
      ],
      "text/plain": [
       "         Name            Name2 Primary Type Secondary type  Attack  Defense  \\\n",
       "746  Tornadus  Incarnate Forme       FLYING            NaN     115       70   \n",
       "747  Tornadus    Therian Forme       FLYING            NaN     100       80   \n",
       "835    Noibat              NaN       FLYING         DRAGON      30       35   \n",
       "836   Noivern              NaN       FLYING         DRAGON      70       80   \n",
       "957  Rookidee              NaN       FLYING            NaN      47       35   \n",
       "\n",
       "     HP  Sp.Attack  Sp.Defense  Speed  Total  \n",
       "746  79        125          80    111    580  \n",
       "747  79        110          90    121    580  \n",
       "835  40         45          40     55    245  \n",
       "836  85         97          80    123    535  \n",
       "957  38         33          35     57    245  "
      ]
     },
     "execution_count": 63,
     "metadata": {},
     "output_type": "execute_result"
    }
   ],
   "source": [
    "flying_pokemon = df[df['Primary Type'] == 'FLYING']\n",
    "flying_pokemon.head()"
   ]
  },
  {
   "cell_type": "code",
   "execution_count": 64,
   "metadata": {},
   "outputs": [],
   "source": [
    "flying_dragon =  df[(df['Primary Type']==\"FLYING\") & (df['Secondary type']=='DRAGON')]\n",
    "dragon_flying = df[(df['Secondary type']==\"FLYING\") & (df['Primary Type']=='DRAGON')]"
   ]
  },
  {
   "cell_type": "code",
   "execution_count": 65,
   "metadata": {},
   "outputs": [
    {
     "data": {
      "text/html": [
       "<div>\n",
       "<style scoped>\n",
       "    .dataframe tbody tr th:only-of-type {\n",
       "        vertical-align: middle;\n",
       "    }\n",
       "\n",
       "    .dataframe tbody tr th {\n",
       "        vertical-align: top;\n",
       "    }\n",
       "\n",
       "    .dataframe thead th {\n",
       "        text-align: right;\n",
       "    }\n",
       "</style>\n",
       "<table border=\"1\" class=\"dataframe\">\n",
       "  <thead>\n",
       "    <tr style=\"text-align: right;\">\n",
       "      <th></th>\n",
       "      <th>Name</th>\n",
       "      <th>Name2</th>\n",
       "      <th>Primary Type</th>\n",
       "      <th>Secondary type</th>\n",
       "      <th>Attack</th>\n",
       "      <th>Defense</th>\n",
       "      <th>HP</th>\n",
       "      <th>Sp.Attack</th>\n",
       "      <th>Sp.Defense</th>\n",
       "      <th>Speed</th>\n",
       "      <th>Total</th>\n",
       "    </tr>\n",
       "  </thead>\n",
       "  <tbody>\n",
       "    <tr>\n",
       "      <th>192</th>\n",
       "      <td>Dragonite</td>\n",
       "      <td>NaN</td>\n",
       "      <td>DRAGON</td>\n",
       "      <td>FLYING</td>\n",
       "      <td>134</td>\n",
       "      <td>95</td>\n",
       "      <td>91</td>\n",
       "      <td>100</td>\n",
       "      <td>100</td>\n",
       "      <td>80</td>\n",
       "      <td>600</td>\n",
       "    </tr>\n",
       "    <tr>\n",
       "      <th>400</th>\n",
       "      <td>Altaria</td>\n",
       "      <td>NaN</td>\n",
       "      <td>DRAGON</td>\n",
       "      <td>FLYING</td>\n",
       "      <td>70</td>\n",
       "      <td>90</td>\n",
       "      <td>75</td>\n",
       "      <td>70</td>\n",
       "      <td>105</td>\n",
       "      <td>80</td>\n",
       "      <td>490</td>\n",
       "    </tr>\n",
       "    <tr>\n",
       "      <th>446</th>\n",
       "      <td>Salamence</td>\n",
       "      <td>NaN</td>\n",
       "      <td>DRAGON</td>\n",
       "      <td>FLYING</td>\n",
       "      <td>135</td>\n",
       "      <td>80</td>\n",
       "      <td>95</td>\n",
       "      <td>110</td>\n",
       "      <td>80</td>\n",
       "      <td>100</td>\n",
       "      <td>600</td>\n",
       "    </tr>\n",
       "    <tr>\n",
       "      <th>447</th>\n",
       "      <td>Salamence</td>\n",
       "      <td>Mega Salamence</td>\n",
       "      <td>DRAGON</td>\n",
       "      <td>FLYING</td>\n",
       "      <td>145</td>\n",
       "      <td>130</td>\n",
       "      <td>95</td>\n",
       "      <td>120</td>\n",
       "      <td>90</td>\n",
       "      <td>120</td>\n",
       "      <td>700</td>\n",
       "    </tr>\n",
       "    <tr>\n",
       "      <th>463</th>\n",
       "      <td>Rayquaza</td>\n",
       "      <td>NaN</td>\n",
       "      <td>DRAGON</td>\n",
       "      <td>FLYING</td>\n",
       "      <td>150</td>\n",
       "      <td>90</td>\n",
       "      <td>105</td>\n",
       "      <td>150</td>\n",
       "      <td>90</td>\n",
       "      <td>95</td>\n",
       "      <td>680</td>\n",
       "    </tr>\n",
       "    <tr>\n",
       "      <th>464</th>\n",
       "      <td>Rayquaza</td>\n",
       "      <td>Mega Rayquaza</td>\n",
       "      <td>DRAGON</td>\n",
       "      <td>FLYING</td>\n",
       "      <td>180</td>\n",
       "      <td>100</td>\n",
       "      <td>105</td>\n",
       "      <td>180</td>\n",
       "      <td>100</td>\n",
       "      <td>115</td>\n",
       "      <td>780</td>\n",
       "    </tr>\n",
       "  </tbody>\n",
       "</table>\n",
       "</div>"
      ],
      "text/plain": [
       "          Name           Name2 Primary Type Secondary type  Attack  Defense  \\\n",
       "192  Dragonite             NaN       DRAGON         FLYING     134       95   \n",
       "400    Altaria             NaN       DRAGON         FLYING      70       90   \n",
       "446  Salamence             NaN       DRAGON         FLYING     135       80   \n",
       "447  Salamence  Mega Salamence       DRAGON         FLYING     145      130   \n",
       "463   Rayquaza             NaN       DRAGON         FLYING     150       90   \n",
       "464   Rayquaza   Mega Rayquaza       DRAGON         FLYING     180      100   \n",
       "\n",
       "      HP  Sp.Attack  Sp.Defense  Speed  Total  \n",
       "192   91        100         100     80    600  \n",
       "400   75         70         105     80    490  \n",
       "446   95        110          80    100    600  \n",
       "447   95        120          90    120    700  \n",
       "463  105        150          90     95    680  \n",
       "464  105        180         100    115    780  "
      ]
     },
     "execution_count": 65,
     "metadata": {},
     "output_type": "execute_result"
    }
   ],
   "source": [
    "dragon_flying"
   ]
  },
  {
   "cell_type": "code",
   "execution_count": 66,
   "metadata": {},
   "outputs": [
    {
     "data": {
      "text/html": [
       "<div>\n",
       "<style scoped>\n",
       "    .dataframe tbody tr th:only-of-type {\n",
       "        vertical-align: middle;\n",
       "    }\n",
       "\n",
       "    .dataframe tbody tr th {\n",
       "        vertical-align: top;\n",
       "    }\n",
       "\n",
       "    .dataframe thead th {\n",
       "        text-align: right;\n",
       "    }\n",
       "</style>\n",
       "<table border=\"1\" class=\"dataframe\">\n",
       "  <thead>\n",
       "    <tr style=\"text-align: right;\">\n",
       "      <th></th>\n",
       "      <th>Name</th>\n",
       "      <th>Name2</th>\n",
       "      <th>Primary Type</th>\n",
       "      <th>Secondary type</th>\n",
       "      <th>Attack</th>\n",
       "      <th>Defense</th>\n",
       "      <th>HP</th>\n",
       "      <th>Sp.Attack</th>\n",
       "      <th>Sp.Defense</th>\n",
       "      <th>Speed</th>\n",
       "      <th>Total</th>\n",
       "    </tr>\n",
       "  </thead>\n",
       "  <tbody>\n",
       "    <tr>\n",
       "      <th>835</th>\n",
       "      <td>Noibat</td>\n",
       "      <td>NaN</td>\n",
       "      <td>FLYING</td>\n",
       "      <td>DRAGON</td>\n",
       "      <td>30</td>\n",
       "      <td>35</td>\n",
       "      <td>40</td>\n",
       "      <td>45</td>\n",
       "      <td>40</td>\n",
       "      <td>55</td>\n",
       "      <td>245</td>\n",
       "    </tr>\n",
       "    <tr>\n",
       "      <th>836</th>\n",
       "      <td>Noivern</td>\n",
       "      <td>NaN</td>\n",
       "      <td>FLYING</td>\n",
       "      <td>DRAGON</td>\n",
       "      <td>70</td>\n",
       "      <td>80</td>\n",
       "      <td>85</td>\n",
       "      <td>97</td>\n",
       "      <td>80</td>\n",
       "      <td>123</td>\n",
       "      <td>535</td>\n",
       "    </tr>\n",
       "  </tbody>\n",
       "</table>\n",
       "</div>"
      ],
      "text/plain": [
       "        Name Name2 Primary Type Secondary type  Attack  Defense  HP  \\\n",
       "835   Noibat   NaN       FLYING         DRAGON      30       35  40   \n",
       "836  Noivern   NaN       FLYING         DRAGON      70       80  85   \n",
       "\n",
       "     Sp.Attack  Sp.Defense  Speed  Total  \n",
       "835         45          40     55    245  \n",
       "836         97          80    123    535  "
      ]
     },
     "execution_count": 66,
     "metadata": {},
     "output_type": "execute_result"
    }
   ],
   "source": [
    "flying_dragon"
   ]
  },
  {
   "cell_type": "markdown",
   "metadata": {},
   "source": [
    "### Merge Two DataFrames"
   ]
  },
  {
   "cell_type": "code",
   "execution_count": 67,
   "metadata": {},
   "outputs": [],
   "source": [
    "dragon = pd.concat([flying_dragon,dragon_flying])"
   ]
  },
  {
   "cell_type": "code",
   "execution_count": 68,
   "metadata": {
    "scrolled": true
   },
   "outputs": [
    {
     "data": {
      "text/html": [
       "<div>\n",
       "<style scoped>\n",
       "    .dataframe tbody tr th:only-of-type {\n",
       "        vertical-align: middle;\n",
       "    }\n",
       "\n",
       "    .dataframe tbody tr th {\n",
       "        vertical-align: top;\n",
       "    }\n",
       "\n",
       "    .dataframe thead th {\n",
       "        text-align: right;\n",
       "    }\n",
       "</style>\n",
       "<table border=\"1\" class=\"dataframe\">\n",
       "  <thead>\n",
       "    <tr style=\"text-align: right;\">\n",
       "      <th></th>\n",
       "      <th>Name</th>\n",
       "      <th>Name2</th>\n",
       "      <th>Primary Type</th>\n",
       "      <th>Secondary type</th>\n",
       "      <th>Attack</th>\n",
       "      <th>Defense</th>\n",
       "      <th>HP</th>\n",
       "      <th>Sp.Attack</th>\n",
       "      <th>Sp.Defense</th>\n",
       "      <th>Speed</th>\n",
       "      <th>Total</th>\n",
       "    </tr>\n",
       "  </thead>\n",
       "  <tbody>\n",
       "    <tr>\n",
       "      <th>835</th>\n",
       "      <td>Noibat</td>\n",
       "      <td>NaN</td>\n",
       "      <td>FLYING</td>\n",
       "      <td>DRAGON</td>\n",
       "      <td>30</td>\n",
       "      <td>35</td>\n",
       "      <td>40</td>\n",
       "      <td>45</td>\n",
       "      <td>40</td>\n",
       "      <td>55</td>\n",
       "      <td>245</td>\n",
       "    </tr>\n",
       "    <tr>\n",
       "      <th>836</th>\n",
       "      <td>Noivern</td>\n",
       "      <td>NaN</td>\n",
       "      <td>FLYING</td>\n",
       "      <td>DRAGON</td>\n",
       "      <td>70</td>\n",
       "      <td>80</td>\n",
       "      <td>85</td>\n",
       "      <td>97</td>\n",
       "      <td>80</td>\n",
       "      <td>123</td>\n",
       "      <td>535</td>\n",
       "    </tr>\n",
       "    <tr>\n",
       "      <th>192</th>\n",
       "      <td>Dragonite</td>\n",
       "      <td>NaN</td>\n",
       "      <td>DRAGON</td>\n",
       "      <td>FLYING</td>\n",
       "      <td>134</td>\n",
       "      <td>95</td>\n",
       "      <td>91</td>\n",
       "      <td>100</td>\n",
       "      <td>100</td>\n",
       "      <td>80</td>\n",
       "      <td>600</td>\n",
       "    </tr>\n",
       "    <tr>\n",
       "      <th>400</th>\n",
       "      <td>Altaria</td>\n",
       "      <td>NaN</td>\n",
       "      <td>DRAGON</td>\n",
       "      <td>FLYING</td>\n",
       "      <td>70</td>\n",
       "      <td>90</td>\n",
       "      <td>75</td>\n",
       "      <td>70</td>\n",
       "      <td>105</td>\n",
       "      <td>80</td>\n",
       "      <td>490</td>\n",
       "    </tr>\n",
       "    <tr>\n",
       "      <th>446</th>\n",
       "      <td>Salamence</td>\n",
       "      <td>NaN</td>\n",
       "      <td>DRAGON</td>\n",
       "      <td>FLYING</td>\n",
       "      <td>135</td>\n",
       "      <td>80</td>\n",
       "      <td>95</td>\n",
       "      <td>110</td>\n",
       "      <td>80</td>\n",
       "      <td>100</td>\n",
       "      <td>600</td>\n",
       "    </tr>\n",
       "    <tr>\n",
       "      <th>447</th>\n",
       "      <td>Salamence</td>\n",
       "      <td>Mega Salamence</td>\n",
       "      <td>DRAGON</td>\n",
       "      <td>FLYING</td>\n",
       "      <td>145</td>\n",
       "      <td>130</td>\n",
       "      <td>95</td>\n",
       "      <td>120</td>\n",
       "      <td>90</td>\n",
       "      <td>120</td>\n",
       "      <td>700</td>\n",
       "    </tr>\n",
       "    <tr>\n",
       "      <th>463</th>\n",
       "      <td>Rayquaza</td>\n",
       "      <td>NaN</td>\n",
       "      <td>DRAGON</td>\n",
       "      <td>FLYING</td>\n",
       "      <td>150</td>\n",
       "      <td>90</td>\n",
       "      <td>105</td>\n",
       "      <td>150</td>\n",
       "      <td>90</td>\n",
       "      <td>95</td>\n",
       "      <td>680</td>\n",
       "    </tr>\n",
       "    <tr>\n",
       "      <th>464</th>\n",
       "      <td>Rayquaza</td>\n",
       "      <td>Mega Rayquaza</td>\n",
       "      <td>DRAGON</td>\n",
       "      <td>FLYING</td>\n",
       "      <td>180</td>\n",
       "      <td>100</td>\n",
       "      <td>105</td>\n",
       "      <td>180</td>\n",
       "      <td>100</td>\n",
       "      <td>115</td>\n",
       "      <td>780</td>\n",
       "    </tr>\n",
       "  </tbody>\n",
       "</table>\n",
       "</div>"
      ],
      "text/plain": [
       "          Name           Name2 Primary Type Secondary type  Attack  Defense  \\\n",
       "835     Noibat             NaN       FLYING         DRAGON      30       35   \n",
       "836    Noivern             NaN       FLYING         DRAGON      70       80   \n",
       "192  Dragonite             NaN       DRAGON         FLYING     134       95   \n",
       "400    Altaria             NaN       DRAGON         FLYING      70       90   \n",
       "446  Salamence             NaN       DRAGON         FLYING     135       80   \n",
       "447  Salamence  Mega Salamence       DRAGON         FLYING     145      130   \n",
       "463   Rayquaza             NaN       DRAGON         FLYING     150       90   \n",
       "464   Rayquaza   Mega Rayquaza       DRAGON         FLYING     180      100   \n",
       "\n",
       "      HP  Sp.Attack  Sp.Defense  Speed  Total  \n",
       "835   40         45          40     55    245  \n",
       "836   85         97          80    123    535  \n",
       "192   91        100         100     80    600  \n",
       "400   75         70         105     80    490  \n",
       "446   95        110          80    100    600  \n",
       "447   95        120          90    120    700  \n",
       "463  105        150          90     95    680  \n",
       "464  105        180         100    115    780  "
      ]
     },
     "execution_count": 68,
     "metadata": {},
     "output_type": "execute_result"
    }
   ],
   "source": [
    "dragon"
   ]
  },
  {
   "cell_type": "code",
   "execution_count": 69,
   "metadata": {},
   "outputs": [
    {
     "name": "stdout",
     "output_type": "stream",
     "text": [
      "We have total of 8 dragons that can fly\n"
     ]
    }
   ],
   "source": [
    "print(\"We have total of {} dragons that can fly\".format(len(dragon)))"
   ]
  },
  {
   "cell_type": "code",
   "execution_count": 70,
   "metadata": {},
   "outputs": [],
   "source": [
    "#your code from here"
   ]
  },
  {
   "cell_type": "code",
   "execution_count": null,
   "metadata": {},
   "outputs": [],
   "source": []
  },
  {
   "cell_type": "markdown",
   "metadata": {},
   "source": [
    "### Top Pokemon Analysis And Battle"
   ]
  },
  {
   "cell_type": "code",
   "execution_count": 6,
   "metadata": {},
   "outputs": [],
   "source": [
    "top20_pokemon = df.loc[:,[\"Name\",\"Total\",'Primary Type']].sort_values(by=\"Total\", ascending=False)[:20]"
   ]
  },
  {
   "cell_type": "code",
   "execution_count": 7,
   "metadata": {},
   "outputs": [],
   "source": [
    "top20_pokemon.set_index(\"Name\",inplace=True)"
   ]
  },
  {
   "cell_type": "code",
   "execution_count": 8,
   "metadata": {},
   "outputs": [
    {
     "data": {
      "text/plain": [
       "<AxesSubplot:title={'center':'Top 20 Pokemon Total Strength'}, xlabel='Name', ylabel='Total'>"
      ]
     },
     "execution_count": 8,
     "metadata": {},
     "output_type": "execute_result"
    },
    {
     "data": {
      "image/png": "[encoded data removed]",
      "text/plain": [
       "<Figure size 432x288 with 1 Axes>"
      ]
     },
     "metadata": {
      "needs_background": "light"
     },
     "output_type": "display_data"
    }
   ],
   "source": [
    "top20_pokemon.plot(kind=\"bar\",stacked=True,ylabel=\"Total\",title=\"Top 20 Pokemon Total Strength\")"
   ]
  },
  {
   "cell_type": "code",
   "execution_count": 15,
   "metadata": {},
   "outputs": [
    {
     "data": {
      "image/png": "[encoded data removed]",
      "text/plain": [
       "<Figure size 864x432 with 1 Axes>"
      ]
     },
     "metadata": {
      "needs_background": "light"
     },
     "output_type": "display_data"
    }
   ],
   "source": [
    "plt.figure(figsize=(12,6))\n",
    "plt.axis(\"off\")\n",
    "axis = squarify.plot(top20_pokemon['Primary Type'].value_counts(), \n",
    "              label=top20_pokemon['Primary Type'].value_counts().index,\n",
    "              color=sb.color_palette(\"tab20\", len(top20_pokemon['Primary Type'].value_counts())),\n",
    "              pad=1,\n",
    "              text_kwargs={'fontsize': 18})\n",
    "axis.set_title(\"Primary Data Types Of Top 20 Pokemons\",fontsize=24)\n",
    "plt.savefig(\"pokemon.png\")"
   ]
  },
  {
   "cell_type": "code",
   "execution_count": 76,
   "metadata": {},
   "outputs": [
    {
     "name": "stdout",
     "output_type": "stream",
     "text": [
      "Object `groupby` not found.\n"
     ]
    }
   ],
   "source": [
    "df['Total'].groupby?"
   ]
  },
  {
   "cell_type": "code",
   "execution_count": 77,
   "metadata": {},
   "outputs": [
    {
     "name": "stdout",
     "output_type": "stream",
     "text": [
      "Object `groupby` not found.\n"
     ]
    }
   ],
   "source": [
    "df['Total'].groupby?"
   ]
  },
  {
   "cell_type": "code",
   "execution_count": 78,
   "metadata": {},
   "outputs": [],
   "source": [
    "df.groupby?"
   ]
  },
  {
   "cell_type": "code",
   "execution_count": 86,
   "metadata": {},
   "outputs": [],
   "source": [
    "df.dropna(how=\"any\",inplace=True)"
   ]
  },
  {
   "cell_type": "code",
   "execution_count": 87,
   "metadata": {},
   "outputs": [],
   "source": [
    "df.dropna(how=\"all\",inplace=True)"
   ]
  },
  {
   "cell_type": "code",
   "execution_count": null,
   "metadata": {},
   "outputs": [],
   "source": [
    "df.drop(column_name,inplace=True)\n",
    "df.drop([column1.column2],inplace=True)"
   ]
  },
  {
   "cell_type": "code",
   "execution_count": 3,
   "metadata": {},
   "outputs": [
    {
     "data": {
      "text/plain": [
       "(0.0, 100.0, 0.0, 100.0)"
      ]
     },
     "execution_count": 3,
     "metadata": {},
     "output_type": "execute_result"
    },
    {
     "data": {
      "image/png": "[encoded data removed]",
      "text/plain": [
       "<Figure size 432x288 with 1 Axes>"
      ]
     },
     "metadata": {
      "needs_background": "light"
     },
     "output_type": "display_data"
    }
   ],
   "source": [
    "episode_data = [1004,720,366,360,80]\n",
    "anime_names = [\"One Piece\",\"Naruto\",\"Bleach\",\"Gintama\",\"Attack On Titan\"]\n",
    "squarify.plot(episode_data,label=anime_names,text_kwargs={'fontsize': 18})\n",
    "plt.axis(\"off\")\n"
   ]
  },
  {
   "cell_type": "code",
   "execution_count": null,
   "metadata": {},
   "outputs": [],
   "source": []
  }
 ],
 "metadata": {
  "kernelspec": {
   "display_name": "Python 3 (ipykernel)",
   "language": "python",
   "name": "python3"
  },
  "language_info": {
   "codemirror_mode": {
    "name": "ipython",
    "version": 3
   },
   "file_extension": ".py",
   "mimetype": "text/x-python",
   "name": "python",
   "nbconvert_exporter": "python",
   "pygments_lexer": "ipython3",
   "version": "3.10.4"
  }
 },
 "nbformat": 4,
 "nbformat_minor": 4
}
